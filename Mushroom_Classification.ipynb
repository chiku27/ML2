{
  "nbformat": 4,
  "nbformat_minor": 0,
  "metadata": {
    "colab": {
      "name": "Mushroom Classification.ipynb",
      "provenance": [],
      "collapsed_sections": []
    },
    "kernelspec": {
      "name": "python3",
      "display_name": "Python 3"
    }
  },
  "cells": [
    {
      "cell_type": "code",
      "metadata": {
        "id": "zE1AYAuHQ55D",
        "colab_type": "code",
        "outputId": "c8d7ea5a-aaf4-4dc5-bae0-589e81ad0690",
        "colab": {
          "resources": {
            "http://localhost:8080/nbextensions/google.colab/files.js": {
              "data": "Ly8gQ29weXJpZ2h0IDIwMTcgR29vZ2xlIExMQwovLwovLyBMaWNlbnNlZCB1bmRlciB0aGUgQXBhY2hlIExpY2Vuc2UsIFZlcnNpb24gMi4wICh0aGUgIkxpY2Vuc2UiKTsKLy8geW91IG1heSBub3QgdXNlIHRoaXMgZmlsZSBleGNlcHQgaW4gY29tcGxpYW5jZSB3aXRoIHRoZSBMaWNlbnNlLgovLyBZb3UgbWF5IG9idGFpbiBhIGNvcHkgb2YgdGhlIExpY2Vuc2UgYXQKLy8KLy8gICAgICBodHRwOi8vd3d3LmFwYWNoZS5vcmcvbGljZW5zZXMvTElDRU5TRS0yLjAKLy8KLy8gVW5sZXNzIHJlcXVpcmVkIGJ5IGFwcGxpY2FibGUgbGF3IG9yIGFncmVlZCB0byBpbiB3cml0aW5nLCBzb2Z0d2FyZQovLyBkaXN0cmlidXRlZCB1bmRlciB0aGUgTGljZW5zZSBpcyBkaXN0cmlidXRlZCBvbiBhbiAiQVMgSVMiIEJBU0lTLAovLyBXSVRIT1VUIFdBUlJBTlRJRVMgT1IgQ09ORElUSU9OUyBPRiBBTlkgS0lORCwgZWl0aGVyIGV4cHJlc3Mgb3IgaW1wbGllZC4KLy8gU2VlIHRoZSBMaWNlbnNlIGZvciB0aGUgc3BlY2lmaWMgbGFuZ3VhZ2UgZ292ZXJuaW5nIHBlcm1pc3Npb25zIGFuZAovLyBsaW1pdGF0aW9ucyB1bmRlciB0aGUgTGljZW5zZS4KCi8qKgogKiBAZmlsZW92ZXJ2aWV3IEhlbHBlcnMgZm9yIGdvb2dsZS5jb2xhYiBQeXRob24gbW9kdWxlLgogKi8KKGZ1bmN0aW9uKHNjb3BlKSB7CmZ1bmN0aW9uIHNwYW4odGV4dCwgc3R5bGVBdHRyaWJ1dGVzID0ge30pIHsKICBjb25zdCBlbGVtZW50ID0gZG9jdW1lbnQuY3JlYXRlRWxlbWVudCgnc3BhbicpOwogIGVsZW1lbnQudGV4dENvbnRlbnQgPSB0ZXh0OwogIGZvciAoY29uc3Qga2V5IG9mIE9iamVjdC5rZXlzKHN0eWxlQXR0cmlidXRlcykpIHsKICAgIGVsZW1lbnQuc3R5bGVba2V5XSA9IHN0eWxlQXR0cmlidXRlc1trZXldOwogIH0KICByZXR1cm4gZWxlbWVudDsKfQoKLy8gTWF4IG51bWJlciBvZiBieXRlcyB3aGljaCB3aWxsIGJlIHVwbG9hZGVkIGF0IGEgdGltZS4KY29uc3QgTUFYX1BBWUxPQURfU0laRSA9IDEwMCAqIDEwMjQ7Ci8vIE1heCBhbW91bnQgb2YgdGltZSB0byBibG9jayB3YWl0aW5nIGZvciB0aGUgdXNlci4KY29uc3QgRklMRV9DSEFOR0VfVElNRU9VVF9NUyA9IDMwICogMTAwMDsKCmZ1bmN0aW9uIF91cGxvYWRGaWxlcyhpbnB1dElkLCBvdXRwdXRJZCkgewogIGNvbnN0IHN0ZXBzID0gdXBsb2FkRmlsZXNTdGVwKGlucHV0SWQsIG91dHB1dElkKTsKICBjb25zdCBvdXRwdXRFbGVtZW50ID0gZG9jdW1lbnQuZ2V0RWxlbWVudEJ5SWQob3V0cHV0SWQpOwogIC8vIENhY2hlIHN0ZXBzIG9uIHRoZSBvdXRwdXRFbGVtZW50IHRvIG1ha2UgaXQgYXZhaWxhYmxlIGZvciB0aGUgbmV4dCBjYWxsCiAgLy8gdG8gdXBsb2FkRmlsZXNDb250aW51ZSBmcm9tIFB5dGhvbi4KICBvdXRwdXRFbGVtZW50LnN0ZXBzID0gc3RlcHM7CgogIHJldHVybiBfdXBsb2FkRmlsZXNDb250aW51ZShvdXRwdXRJZCk7Cn0KCi8vIFRoaXMgaXMgcm91Z2hseSBhbiBhc3luYyBnZW5lcmF0b3IgKG5vdCBzdXBwb3J0ZWQgaW4gdGhlIGJyb3dzZXIgeWV0KSwKLy8gd2hlcmUgdGhlcmUgYXJlIG11bHRpcGxlIGFzeW5jaHJvbm91cyBzdGVwcyBhbmQgdGhlIFB5dGhvbiBzaWRlIGlzIGdvaW5nCi8vIHRvIHBvbGwgZm9yIGNvbXBsZXRpb24gb2YgZWFjaCBzdGVwLgovLyBUaGlzIHVzZXMgYSBQcm9taXNlIHRvIGJsb2NrIHRoZSBweXRob24gc2lkZSBvbiBjb21wbGV0aW9uIG9mIGVhY2ggc3RlcCwKLy8gdGhlbiBwYXNzZXMgdGhlIHJlc3VsdCBvZiB0aGUgcHJldmlvdXMgc3RlcCBhcyB0aGUgaW5wdXQgdG8gdGhlIG5leHQgc3RlcC4KZnVuY3Rpb24gX3VwbG9hZEZpbGVzQ29udGludWUob3V0cHV0SWQpIHsKICBjb25zdCBvdXRwdXRFbGVtZW50ID0gZG9jdW1lbnQuZ2V0RWxlbWVudEJ5SWQob3V0cHV0SWQpOwogIGNvbnN0IHN0ZXBzID0gb3V0cHV0RWxlbWVudC5zdGVwczsKCiAgY29uc3QgbmV4dCA9IHN0ZXBzLm5leHQob3V0cHV0RWxlbWVudC5sYXN0UHJvbWlzZVZhbHVlKTsKICByZXR1cm4gUHJvbWlzZS5yZXNvbHZlKG5leHQudmFsdWUucHJvbWlzZSkudGhlbigodmFsdWUpID0+IHsKICAgIC8vIENhY2hlIHRoZSBsYXN0IHByb21pc2UgdmFsdWUgdG8gbWFrZSBpdCBhdmFpbGFibGUgdG8gdGhlIG5leHQKICAgIC8vIHN0ZXAgb2YgdGhlIGdlbmVyYXRvci4KICAgIG91dHB1dEVsZW1lbnQubGFzdFByb21pc2VWYWx1ZSA9IHZhbHVlOwogICAgcmV0dXJuIG5leHQudmFsdWUucmVzcG9uc2U7CiAgfSk7Cn0KCi8qKgogKiBHZW5lcmF0b3IgZnVuY3Rpb24gd2hpY2ggaXMgY2FsbGVkIGJldHdlZW4gZWFjaCBhc3luYyBzdGVwIG9mIHRoZSB1cGxvYWQKICogcHJvY2Vzcy4KICogQHBhcmFtIHtzdHJpbmd9IGlucHV0SWQgRWxlbWVudCBJRCBvZiB0aGUgaW5wdXQgZmlsZSBwaWNrZXIgZWxlbWVudC4KICogQHBhcmFtIHtzdHJpbmd9IG91dHB1dElkIEVsZW1lbnQgSUQgb2YgdGhlIG91dHB1dCBkaXNwbGF5LgogKiBAcmV0dXJuIHshSXRlcmFibGU8IU9iamVjdD59IEl0ZXJhYmxlIG9mIG5leHQgc3RlcHMuCiAqLwpmdW5jdGlvbiogdXBsb2FkRmlsZXNTdGVwKGlucHV0SWQsIG91dHB1dElkKSB7CiAgY29uc3QgaW5wdXRFbGVtZW50ID0gZG9jdW1lbnQuZ2V0RWxlbWVudEJ5SWQoaW5wdXRJZCk7CiAgaW5wdXRFbGVtZW50LmRpc2FibGVkID0gZmFsc2U7CgogIGNvbnN0IG91dHB1dEVsZW1lbnQgPSBkb2N1bWVudC5nZXRFbGVtZW50QnlJZChvdXRwdXRJZCk7CiAgb3V0cHV0RWxlbWVudC5pbm5lckhUTUwgPSAnJzsKCiAgY29uc3QgcGlja2VkUHJvbWlzZSA9IG5ldyBQcm9taXNlKChyZXNvbHZlKSA9PiB7CiAgICBpbnB1dEVsZW1lbnQuYWRkRXZlbnRMaXN0ZW5lcignY2hhbmdlJywgKGUpID0+IHsKICAgICAgcmVzb2x2ZShlLnRhcmdldC5maWxlcyk7CiAgICB9KTsKICB9KTsKCiAgY29uc3QgY2FuY2VsID0gZG9jdW1lbnQuY3JlYXRlRWxlbWVudCgnYnV0dG9uJyk7CiAgaW5wdXRFbGVtZW50LnBhcmVudEVsZW1lbnQuYXBwZW5kQ2hpbGQoY2FuY2VsKTsKICBjYW5jZWwudGV4dENvbnRlbnQgPSAnQ2FuY2VsIHVwbG9hZCc7CiAgY29uc3QgY2FuY2VsUHJvbWlzZSA9IG5ldyBQcm9taXNlKChyZXNvbHZlKSA9PiB7CiAgICBjYW5jZWwub25jbGljayA9ICgpID0+IHsKICAgICAgcmVzb2x2ZShudWxsKTsKICAgIH07CiAgfSk7CgogIC8vIENhbmNlbCB1cGxvYWQgaWYgdXNlciBoYXNuJ3QgcGlja2VkIGFueXRoaW5nIGluIHRpbWVvdXQuCiAgY29uc3QgdGltZW91dFByb21pc2UgPSBuZXcgUHJvbWlzZSgocmVzb2x2ZSkgPT4gewogICAgc2V0VGltZW91dCgoKSA9PiB7CiAgICAgIHJlc29sdmUobnVsbCk7CiAgICB9LCBGSUxFX0NIQU5HRV9USU1FT1VUX01TKTsKICB9KTsKCiAgLy8gV2FpdCBmb3IgdGhlIHVzZXIgdG8gcGljayB0aGUgZmlsZXMuCiAgY29uc3QgZmlsZXMgPSB5aWVsZCB7CiAgICBwcm9taXNlOiBQcm9taXNlLnJhY2UoW3BpY2tlZFByb21pc2UsIHRpbWVvdXRQcm9taXNlLCBjYW5jZWxQcm9taXNlXSksCiAgICByZXNwb25zZTogewogICAgICBhY3Rpb246ICdzdGFydGluZycsCiAgICB9CiAgfTsKCiAgaWYgKCFmaWxlcykgewogICAgcmV0dXJuIHsKICAgICAgcmVzcG9uc2U6IHsKICAgICAgICBhY3Rpb246ICdjb21wbGV0ZScsCiAgICAgIH0KICAgIH07CiAgfQoKICBjYW5jZWwucmVtb3ZlKCk7CgogIC8vIERpc2FibGUgdGhlIGlucHV0IGVsZW1lbnQgc2luY2UgZnVydGhlciBwaWNrcyBhcmUgbm90IGFsbG93ZWQuCiAgaW5wdXRFbGVtZW50LmRpc2FibGVkID0gdHJ1ZTsKCiAgZm9yIChjb25zdCBmaWxlIG9mIGZpbGVzKSB7CiAgICBjb25zdCBsaSA9IGRvY3VtZW50LmNyZWF0ZUVsZW1lbnQoJ2xpJyk7CiAgICBsaS5hcHBlbmQoc3BhbihmaWxlLm5hbWUsIHtmb250V2VpZ2h0OiAnYm9sZCd9KSk7CiAgICBsaS5hcHBlbmQoc3BhbigKICAgICAgICBgKCR7ZmlsZS50eXBlIHx8ICduL2EnfSkgLSAke2ZpbGUuc2l6ZX0gYnl0ZXMsIGAgKwogICAgICAgIGBsYXN0IG1vZGlmaWVkOiAkewogICAgICAgICAgICBmaWxlLmxhc3RNb2RpZmllZERhdGUgPyBmaWxlLmxhc3RNb2RpZmllZERhdGUudG9Mb2NhbGVEYXRlU3RyaW5nKCkgOgogICAgICAgICAgICAgICAgICAgICAgICAgICAgICAgICAgICAnbi9hJ30gLSBgKSk7CiAgICBjb25zdCBwZXJjZW50ID0gc3BhbignMCUgZG9uZScpOwogICAgbGkuYXBwZW5kQ2hpbGQocGVyY2VudCk7CgogICAgb3V0cHV0RWxlbWVudC5hcHBlbmRDaGlsZChsaSk7CgogICAgY29uc3QgZmlsZURhdGFQcm9taXNlID0gbmV3IFByb21pc2UoKHJlc29sdmUpID0+IHsKICAgICAgY29uc3QgcmVhZGVyID0gbmV3IEZpbGVSZWFkZXIoKTsKICAgICAgcmVhZGVyLm9ubG9hZCA9IChlKSA9PiB7CiAgICAgICAgcmVzb2x2ZShlLnRhcmdldC5yZXN1bHQpOwogICAgICB9OwogICAgICByZWFkZXIucmVhZEFzQXJyYXlCdWZmZXIoZmlsZSk7CiAgICB9KTsKICAgIC8vIFdhaXQgZm9yIHRoZSBkYXRhIHRvIGJlIHJlYWR5LgogICAgbGV0IGZpbGVEYXRhID0geWllbGQgewogICAgICBwcm9taXNlOiBmaWxlRGF0YVByb21pc2UsCiAgICAgIHJlc3BvbnNlOiB7CiAgICAgICAgYWN0aW9uOiAnY29udGludWUnLAogICAgICB9CiAgICB9OwoKICAgIC8vIFVzZSBhIGNodW5rZWQgc2VuZGluZyB0byBhdm9pZCBtZXNzYWdlIHNpemUgbGltaXRzLiBTZWUgYi82MjExNTY2MC4KICAgIGxldCBwb3NpdGlvbiA9IDA7CiAgICB3aGlsZSAocG9zaXRpb24gPCBmaWxlRGF0YS5ieXRlTGVuZ3RoKSB7CiAgICAgIGNvbnN0IGxlbmd0aCA9IE1hdGgubWluKGZpbGVEYXRhLmJ5dGVMZW5ndGggLSBwb3NpdGlvbiwgTUFYX1BBWUxPQURfU0laRSk7CiAgICAgIGNvbnN0IGNodW5rID0gbmV3IFVpbnQ4QXJyYXkoZmlsZURhdGEsIHBvc2l0aW9uLCBsZW5ndGgpOwogICAgICBwb3NpdGlvbiArPSBsZW5ndGg7CgogICAgICBjb25zdCBiYXNlNjQgPSBidG9hKFN0cmluZy5mcm9tQ2hhckNvZGUuYXBwbHkobnVsbCwgY2h1bmspKTsKICAgICAgeWllbGQgewogICAgICAgIHJlc3BvbnNlOiB7CiAgICAgICAgICBhY3Rpb246ICdhcHBlbmQnLAogICAgICAgICAgZmlsZTogZmlsZS5uYW1lLAogICAgICAgICAgZGF0YTogYmFzZTY0LAogICAgICAgIH0sCiAgICAgIH07CiAgICAgIHBlcmNlbnQudGV4dENvbnRlbnQgPQogICAgICAgICAgYCR7TWF0aC5yb3VuZCgocG9zaXRpb24gLyBmaWxlRGF0YS5ieXRlTGVuZ3RoKSAqIDEwMCl9JSBkb25lYDsKICAgIH0KICB9CgogIC8vIEFsbCBkb25lLgogIHlpZWxkIHsKICAgIHJlc3BvbnNlOiB7CiAgICAgIGFjdGlvbjogJ2NvbXBsZXRlJywKICAgIH0KICB9Owp9CgpzY29wZS5nb29nbGUgPSBzY29wZS5nb29nbGUgfHwge307CnNjb3BlLmdvb2dsZS5jb2xhYiA9IHNjb3BlLmdvb2dsZS5jb2xhYiB8fCB7fTsKc2NvcGUuZ29vZ2xlLmNvbGFiLl9maWxlcyA9IHsKICBfdXBsb2FkRmlsZXMsCiAgX3VwbG9hZEZpbGVzQ29udGludWUsCn07Cn0pKHNlbGYpOwo=",
              "ok": true,
              "headers": [
                [
                  "content-type",
                  "application/javascript"
                ]
              ],
              "status": 200,
              "status_text": ""
            }
          },
          "base_uri": "https://localhost:8080/",
          "height": 93
        }
      },
      "source": [
        "from google.colab import files\n",
        "\n",
        "uploaded = files.upload()\n",
        "\n",
        "for fn in uploaded.keys():\n",
        "  print('User uploaded file \"{name}\" with length {length} bytes'.format(\n",
        "      name=fn, length=len(uploaded[fn])))"
      ],
      "execution_count": 0,
      "outputs": [
        {
          "output_type": "display_data",
          "data": {
            "text/html": [
              "\n",
              "     <input type=\"file\" id=\"files-2411b330-e65e-458e-9816-09c1fce32b5f\" name=\"files[]\" multiple disabled />\n",
              "     <output id=\"result-2411b330-e65e-458e-9816-09c1fce32b5f\">\n",
              "      Upload widget is only available when the cell has been executed in the\n",
              "      current browser session. Please rerun this cell to enable.\n",
              "      </output>\n",
              "      <script src=\"/nbextensions/google.colab/files.js\"></script> "
            ],
            "text/plain": [
              "<IPython.core.display.HTML object>"
            ]
          },
          "metadata": {
            "tags": []
          }
        },
        {
          "output_type": "stream",
          "text": [
            "Saving kaggle.json to kaggle (1).json\n",
            "User uploaded file \"kaggle.json\" with length 68 bytes\n"
          ],
          "name": "stdout"
        }
      ]
    },
    {
      "cell_type": "code",
      "metadata": {
        "id": "HL-m9kPlRq4G",
        "colab_type": "code",
        "outputId": "48ddc7e7-7e88-41fe-ed9f-4c36a0e83cd6",
        "colab": {
          "base_uri": "https://localhost:8080/",
          "height": 52
        }
      },
      "source": [
        "!mkdir ~p ~/.kaggle\n",
        "!cp kaggle.json ~/.kaggle/\n",
        "!chmod 600 ~/.kaggle/kaggle.json"
      ],
      "execution_count": 0,
      "outputs": [
        {
          "output_type": "stream",
          "text": [
            "mkdir: cannot create directory ‘~p’: File exists\n",
            "mkdir: cannot create directory ‘/root/.kaggle’: File exists\n"
          ],
          "name": "stdout"
        }
      ]
    },
    {
      "cell_type": "code",
      "metadata": {
        "id": "2-JOOTuGRuyv",
        "colab_type": "code",
        "outputId": "f8929fad-9279-4bb3-d03c-d43e2c2b3e62",
        "colab": {
          "base_uri": "https://localhost:8080/",
          "height": 35
        }
      },
      "source": [
        "!kaggle datasets download -d uciml/mushroom-classification"
      ],
      "execution_count": 0,
      "outputs": [
        {
          "output_type": "stream",
          "text": [
            "mushroom-classification.zip: Skipping, found more recently modified local copy (use --force to force download)\n"
          ],
          "name": "stdout"
        }
      ]
    },
    {
      "cell_type": "code",
      "metadata": {
        "id": "r5PhdciyTB0y",
        "colab_type": "code",
        "outputId": "e9a68451-2301-4f79-f317-b1987f6b6ee8",
        "colab": {
          "base_uri": "https://localhost:8080/",
          "height": 35
        }
      },
      "source": [
        "from zipfile import ZipFile\n",
        "file_name=\"mushroom-classification.zip\"\n",
        "\n",
        "with ZipFile(file_name,'r') as zip:\n",
        "  zip.extractall()\n",
        "  print('Done')"
      ],
      "execution_count": 0,
      "outputs": [
        {
          "output_type": "stream",
          "text": [
            "Done\n"
          ],
          "name": "stdout"
        }
      ]
    },
    {
      "cell_type": "markdown",
      "metadata": {
        "id": "VsRvgR-uTHXC",
        "colab_type": "text"
      },
      "source": [
        "**Mushroom Classification**"
      ]
    },
    {
      "cell_type": "markdown",
      "metadata": {
        "id": "VKtWcYV-NVYQ",
        "colab_type": "text"
      },
      "source": [
        "Importing some libraries"
      ]
    },
    {
      "cell_type": "code",
      "metadata": {
        "id": "J2zrUCkzTrBW",
        "colab_type": "code",
        "colab": {}
      },
      "source": [
        "import numpy as np \n",
        "import pandas as pd \n",
        "import matplotlib.pyplot as plt\n",
        "import seaborn as sns"
      ],
      "execution_count": 0,
      "outputs": []
    },
    {
      "cell_type": "code",
      "metadata": {
        "id": "Miw8QYeDT2Rv",
        "colab_type": "code",
        "colab": {}
      },
      "source": [
        "mushroom=pd.read_csv('mushrooms.csv')"
      ],
      "execution_count": 0,
      "outputs": []
    },
    {
      "cell_type": "code",
      "metadata": {
        "id": "Vxok-kOKUByl",
        "colab_type": "code",
        "outputId": "71f4fe37-5d69-4289-a9ff-4b68936ed39d",
        "colab": {
          "base_uri": "https://localhost:8080/",
          "height": 274
        }
      },
      "source": [
        "mushroom.head()"
      ],
      "execution_count": 0,
      "outputs": [
        {
          "output_type": "execute_result",
          "data": {
            "text/html": [
              "<div>\n",
              "<style scoped>\n",
              "    .dataframe tbody tr th:only-of-type {\n",
              "        vertical-align: middle;\n",
              "    }\n",
              "\n",
              "    .dataframe tbody tr th {\n",
              "        vertical-align: top;\n",
              "    }\n",
              "\n",
              "    .dataframe thead th {\n",
              "        text-align: right;\n",
              "    }\n",
              "</style>\n",
              "<table border=\"1\" class=\"dataframe\">\n",
              "  <thead>\n",
              "    <tr style=\"text-align: right;\">\n",
              "      <th></th>\n",
              "      <th>class</th>\n",
              "      <th>cap-shape</th>\n",
              "      <th>cap-surface</th>\n",
              "      <th>cap-color</th>\n",
              "      <th>bruises</th>\n",
              "      <th>odor</th>\n",
              "      <th>gill-attachment</th>\n",
              "      <th>gill-spacing</th>\n",
              "      <th>gill-size</th>\n",
              "      <th>gill-color</th>\n",
              "      <th>stalk-shape</th>\n",
              "      <th>stalk-root</th>\n",
              "      <th>stalk-surface-above-ring</th>\n",
              "      <th>stalk-surface-below-ring</th>\n",
              "      <th>stalk-color-above-ring</th>\n",
              "      <th>stalk-color-below-ring</th>\n",
              "      <th>veil-type</th>\n",
              "      <th>veil-color</th>\n",
              "      <th>ring-number</th>\n",
              "      <th>ring-type</th>\n",
              "      <th>spore-print-color</th>\n",
              "      <th>population</th>\n",
              "      <th>habitat</th>\n",
              "    </tr>\n",
              "  </thead>\n",
              "  <tbody>\n",
              "    <tr>\n",
              "      <th>0</th>\n",
              "      <td>p</td>\n",
              "      <td>x</td>\n",
              "      <td>s</td>\n",
              "      <td>n</td>\n",
              "      <td>t</td>\n",
              "      <td>p</td>\n",
              "      <td>f</td>\n",
              "      <td>c</td>\n",
              "      <td>n</td>\n",
              "      <td>k</td>\n",
              "      <td>e</td>\n",
              "      <td>e</td>\n",
              "      <td>s</td>\n",
              "      <td>s</td>\n",
              "      <td>w</td>\n",
              "      <td>w</td>\n",
              "      <td>p</td>\n",
              "      <td>w</td>\n",
              "      <td>o</td>\n",
              "      <td>p</td>\n",
              "      <td>k</td>\n",
              "      <td>s</td>\n",
              "      <td>u</td>\n",
              "    </tr>\n",
              "    <tr>\n",
              "      <th>1</th>\n",
              "      <td>e</td>\n",
              "      <td>x</td>\n",
              "      <td>s</td>\n",
              "      <td>y</td>\n",
              "      <td>t</td>\n",
              "      <td>a</td>\n",
              "      <td>f</td>\n",
              "      <td>c</td>\n",
              "      <td>b</td>\n",
              "      <td>k</td>\n",
              "      <td>e</td>\n",
              "      <td>c</td>\n",
              "      <td>s</td>\n",
              "      <td>s</td>\n",
              "      <td>w</td>\n",
              "      <td>w</td>\n",
              "      <td>p</td>\n",
              "      <td>w</td>\n",
              "      <td>o</td>\n",
              "      <td>p</td>\n",
              "      <td>n</td>\n",
              "      <td>n</td>\n",
              "      <td>g</td>\n",
              "    </tr>\n",
              "    <tr>\n",
              "      <th>2</th>\n",
              "      <td>e</td>\n",
              "      <td>b</td>\n",
              "      <td>s</td>\n",
              "      <td>w</td>\n",
              "      <td>t</td>\n",
              "      <td>l</td>\n",
              "      <td>f</td>\n",
              "      <td>c</td>\n",
              "      <td>b</td>\n",
              "      <td>n</td>\n",
              "      <td>e</td>\n",
              "      <td>c</td>\n",
              "      <td>s</td>\n",
              "      <td>s</td>\n",
              "      <td>w</td>\n",
              "      <td>w</td>\n",
              "      <td>p</td>\n",
              "      <td>w</td>\n",
              "      <td>o</td>\n",
              "      <td>p</td>\n",
              "      <td>n</td>\n",
              "      <td>n</td>\n",
              "      <td>m</td>\n",
              "    </tr>\n",
              "    <tr>\n",
              "      <th>3</th>\n",
              "      <td>p</td>\n",
              "      <td>x</td>\n",
              "      <td>y</td>\n",
              "      <td>w</td>\n",
              "      <td>t</td>\n",
              "      <td>p</td>\n",
              "      <td>f</td>\n",
              "      <td>c</td>\n",
              "      <td>n</td>\n",
              "      <td>n</td>\n",
              "      <td>e</td>\n",
              "      <td>e</td>\n",
              "      <td>s</td>\n",
              "      <td>s</td>\n",
              "      <td>w</td>\n",
              "      <td>w</td>\n",
              "      <td>p</td>\n",
              "      <td>w</td>\n",
              "      <td>o</td>\n",
              "      <td>p</td>\n",
              "      <td>k</td>\n",
              "      <td>s</td>\n",
              "      <td>u</td>\n",
              "    </tr>\n",
              "    <tr>\n",
              "      <th>4</th>\n",
              "      <td>e</td>\n",
              "      <td>x</td>\n",
              "      <td>s</td>\n",
              "      <td>g</td>\n",
              "      <td>f</td>\n",
              "      <td>n</td>\n",
              "      <td>f</td>\n",
              "      <td>w</td>\n",
              "      <td>b</td>\n",
              "      <td>k</td>\n",
              "      <td>t</td>\n",
              "      <td>e</td>\n",
              "      <td>s</td>\n",
              "      <td>s</td>\n",
              "      <td>w</td>\n",
              "      <td>w</td>\n",
              "      <td>p</td>\n",
              "      <td>w</td>\n",
              "      <td>o</td>\n",
              "      <td>e</td>\n",
              "      <td>n</td>\n",
              "      <td>a</td>\n",
              "      <td>g</td>\n",
              "    </tr>\n",
              "  </tbody>\n",
              "</table>\n",
              "</div>"
            ],
            "text/plain": [
              "  class cap-shape cap-surface  ... spore-print-color population habitat\n",
              "0     p         x           s  ...                 k          s       u\n",
              "1     e         x           s  ...                 n          n       g\n",
              "2     e         b           s  ...                 n          n       m\n",
              "3     p         x           y  ...                 k          s       u\n",
              "4     e         x           s  ...                 n          a       g\n",
              "\n",
              "[5 rows x 23 columns]"
            ]
          },
          "metadata": {
            "tags": []
          },
          "execution_count": 42
        }
      ]
    },
    {
      "cell_type": "markdown",
      "metadata": {
        "id": "dmKyuMOtXj-S",
        "colab_type": "text"
      },
      "source": [
        "classes: edible=e, poisonous=p\n",
        "\n",
        "cap-shape: bell=b,conical=c,convex=x,flat=f, knobbed=k,sunken=s\n",
        "\n",
        "cap-surface: fibrous=f,grooves=g,scaly=y,smooth=s\n",
        "\n",
        "cap-color: brown=n,buff=b,cinnamon=c,gray=g,green=r,pink=p,purple=u,red=e,white=w,yellow=y\n",
        "\n",
        "bruises: bruises=t,no=f\n",
        "\n",
        "odor: almond=a,anise=l,creosote=c,fishy=y,foul=f,musty=m,none=n,pungent=p,spicy=s\n",
        "\n",
        "gill-attachment: attached=a,descending=d,free=f,notched=n\n",
        "\n",
        "gill-spacing: close=c,crowded=w,distant=d\n",
        "\n",
        "gill-size: broad=b,narrow=n\n",
        "\n",
        "gill-color: black=k,brown=n,buff=b,chocolate=h,gray=g, green=r,orange=o,pink=p,purple=u,red=e,white=w,yellow=y\n",
        "stalk-shape: enlarging=e,tapering=t\n",
        "\n",
        "stalk-root: bulbous=b,club=c,cup=u,equal=e,rhizomorphs=z,rooted=r,missing=?\n",
        "\n",
        "stalk-surface-above-ring: fibrous=f,scaly=y,silky=k,smooth=s\n",
        "\n",
        "stalk-surface-below-ring: fibrous=f,scaly=y,silky=k,smooth=s\n",
        "\n",
        "stalk-color-above-ring: brown=n,buff=b,cinnamon=c,gray=g,orange=o,pink=p,red=e,white=w,yellow=y\n",
        "\n",
        "stalk-color-below-ring: brown=n,buff=b,cinnamon=c,gray=g,orange=o,pink=p,red=e,white=w,yellow=y\n",
        "\n",
        "veil-type: partial=p,universal=u\n",
        "\n",
        "veil-color: brown=n,orange=o,white=w,yellow=y\n",
        "\n",
        "ring-number: none=n,one=o,two=t\n",
        "\n",
        "ring-type: cobwebby=c,evanescent=e,flaring=f,large=l,none=n,pendant=p,sheathing=s,zone=z\n",
        "spore-print-color: black=k,brown=n,buff=b,chocolate=h,green=r,orange=o,purple=u,white=w,yellow=y\n",
        "\n",
        "population: abundant=a,clustered=c,numerous=n,scattered=s,several=v,solitary=y\n",
        "\n",
        "habitat: grasses=g,leaves=l,meadows=m,paths=p,urban=u,waste=w,woods=d\n",
        "Cap: The cap is the top of the mushroom (and often looks sort of like a small umbrella). Mushroom caps can come in a variety of colors but most often are brown, white, or yellow.\n",
        "\n",
        "Gills, Pores, or Teeth: These structures appear under the mushroom's cap. They look similar to a fish's gills.\n",
        "\n",
        "Ring: The ring (sometimes called the annulus) is the remaining structure of the partial veil after the gills have pushed through.\n",
        "\n",
        "Stem or Stipe: The stem is the tall structure that holds the cap high above the ground.\n",
        "\n",
        "Volva: The volva is the protective veil that remains after the mushroom sprouted up from the ground. As the fungus grows, it breaks through the volva.\n",
        "\n",
        "Spores: Microscopic seeds acting as reproductive agents; they are usually released into the air and fall on a substrate to produce a new mushroom."
      ]
    },
    {
      "cell_type": "code",
      "metadata": {
        "id": "meCv9dCIUD2o",
        "colab_type": "code",
        "outputId": "5452f1ee-4b2e-4b54-c9f8-4bbad89cdaa0",
        "colab": {
          "base_uri": "https://localhost:8080/",
          "height": 35
        }
      },
      "source": [
        "mushroom.shape"
      ],
      "execution_count": 0,
      "outputs": [
        {
          "output_type": "execute_result",
          "data": {
            "text/plain": [
              "(8124, 23)"
            ]
          },
          "metadata": {
            "tags": []
          },
          "execution_count": 8
        }
      ]
    },
    {
      "cell_type": "code",
      "metadata": {
        "id": "EssAsLeaUMnm",
        "colab_type": "code",
        "outputId": "0f20154c-6490-4366-825d-cbeff24e0b37",
        "colab": {
          "base_uri": "https://localhost:8080/",
          "height": 243
        }
      },
      "source": [
        "mushroom.describe()"
      ],
      "execution_count": 0,
      "outputs": [
        {
          "output_type": "execute_result",
          "data": {
            "text/html": [
              "<div>\n",
              "<style scoped>\n",
              "    .dataframe tbody tr th:only-of-type {\n",
              "        vertical-align: middle;\n",
              "    }\n",
              "\n",
              "    .dataframe tbody tr th {\n",
              "        vertical-align: top;\n",
              "    }\n",
              "\n",
              "    .dataframe thead th {\n",
              "        text-align: right;\n",
              "    }\n",
              "</style>\n",
              "<table border=\"1\" class=\"dataframe\">\n",
              "  <thead>\n",
              "    <tr style=\"text-align: right;\">\n",
              "      <th></th>\n",
              "      <th>class</th>\n",
              "      <th>cap-shape</th>\n",
              "      <th>cap-surface</th>\n",
              "      <th>cap-color</th>\n",
              "      <th>bruises</th>\n",
              "      <th>odor</th>\n",
              "      <th>gill-attachment</th>\n",
              "      <th>gill-spacing</th>\n",
              "      <th>gill-size</th>\n",
              "      <th>gill-color</th>\n",
              "      <th>stalk-shape</th>\n",
              "      <th>stalk-root</th>\n",
              "      <th>stalk-surface-above-ring</th>\n",
              "      <th>stalk-surface-below-ring</th>\n",
              "      <th>stalk-color-above-ring</th>\n",
              "      <th>stalk-color-below-ring</th>\n",
              "      <th>veil-type</th>\n",
              "      <th>veil-color</th>\n",
              "      <th>ring-number</th>\n",
              "      <th>ring-type</th>\n",
              "      <th>spore-print-color</th>\n",
              "      <th>population</th>\n",
              "      <th>habitat</th>\n",
              "    </tr>\n",
              "  </thead>\n",
              "  <tbody>\n",
              "    <tr>\n",
              "      <th>count</th>\n",
              "      <td>8124</td>\n",
              "      <td>8124</td>\n",
              "      <td>8124</td>\n",
              "      <td>8124</td>\n",
              "      <td>8124</td>\n",
              "      <td>8124</td>\n",
              "      <td>8124</td>\n",
              "      <td>8124</td>\n",
              "      <td>8124</td>\n",
              "      <td>8124</td>\n",
              "      <td>8124</td>\n",
              "      <td>8124</td>\n",
              "      <td>8124</td>\n",
              "      <td>8124</td>\n",
              "      <td>8124</td>\n",
              "      <td>8124</td>\n",
              "      <td>8124</td>\n",
              "      <td>8124</td>\n",
              "      <td>8124</td>\n",
              "      <td>8124</td>\n",
              "      <td>8124</td>\n",
              "      <td>8124</td>\n",
              "      <td>8124</td>\n",
              "    </tr>\n",
              "    <tr>\n",
              "      <th>unique</th>\n",
              "      <td>2</td>\n",
              "      <td>6</td>\n",
              "      <td>4</td>\n",
              "      <td>10</td>\n",
              "      <td>2</td>\n",
              "      <td>9</td>\n",
              "      <td>2</td>\n",
              "      <td>2</td>\n",
              "      <td>2</td>\n",
              "      <td>12</td>\n",
              "      <td>2</td>\n",
              "      <td>5</td>\n",
              "      <td>4</td>\n",
              "      <td>4</td>\n",
              "      <td>9</td>\n",
              "      <td>9</td>\n",
              "      <td>1</td>\n",
              "      <td>4</td>\n",
              "      <td>3</td>\n",
              "      <td>5</td>\n",
              "      <td>9</td>\n",
              "      <td>6</td>\n",
              "      <td>7</td>\n",
              "    </tr>\n",
              "    <tr>\n",
              "      <th>top</th>\n",
              "      <td>e</td>\n",
              "      <td>x</td>\n",
              "      <td>y</td>\n",
              "      <td>n</td>\n",
              "      <td>f</td>\n",
              "      <td>n</td>\n",
              "      <td>f</td>\n",
              "      <td>c</td>\n",
              "      <td>b</td>\n",
              "      <td>b</td>\n",
              "      <td>t</td>\n",
              "      <td>b</td>\n",
              "      <td>s</td>\n",
              "      <td>s</td>\n",
              "      <td>w</td>\n",
              "      <td>w</td>\n",
              "      <td>p</td>\n",
              "      <td>w</td>\n",
              "      <td>o</td>\n",
              "      <td>p</td>\n",
              "      <td>w</td>\n",
              "      <td>v</td>\n",
              "      <td>d</td>\n",
              "    </tr>\n",
              "    <tr>\n",
              "      <th>freq</th>\n",
              "      <td>4208</td>\n",
              "      <td>3656</td>\n",
              "      <td>3244</td>\n",
              "      <td>2284</td>\n",
              "      <td>4748</td>\n",
              "      <td>3528</td>\n",
              "      <td>7914</td>\n",
              "      <td>6812</td>\n",
              "      <td>5612</td>\n",
              "      <td>1728</td>\n",
              "      <td>4608</td>\n",
              "      <td>3776</td>\n",
              "      <td>5176</td>\n",
              "      <td>4936</td>\n",
              "      <td>4464</td>\n",
              "      <td>4384</td>\n",
              "      <td>8124</td>\n",
              "      <td>7924</td>\n",
              "      <td>7488</td>\n",
              "      <td>3968</td>\n",
              "      <td>2388</td>\n",
              "      <td>4040</td>\n",
              "      <td>3148</td>\n",
              "    </tr>\n",
              "  </tbody>\n",
              "</table>\n",
              "</div>"
            ],
            "text/plain": [
              "       class cap-shape cap-surface  ... spore-print-color population habitat\n",
              "count   8124      8124        8124  ...              8124       8124    8124\n",
              "unique     2         6           4  ...                 9          6       7\n",
              "top        e         x           y  ...                 w          v       d\n",
              "freq    4208      3656        3244  ...              2388       4040    3148\n",
              "\n",
              "[4 rows x 23 columns]"
            ]
          },
          "metadata": {
            "tags": []
          },
          "execution_count": 13
        }
      ]
    },
    {
      "cell_type": "code",
      "metadata": {
        "id": "hrDh2PrOURg0",
        "colab_type": "code",
        "colab": {}
      },
      "source": [
        "mushroom.isnull().sum()"
      ],
      "execution_count": 0,
      "outputs": []
    },
    {
      "cell_type": "markdown",
      "metadata": {
        "id": "C2hgmyY_NeDu",
        "colab_type": "text"
      },
      "source": [
        "Data Visualization"
      ]
    },
    {
      "cell_type": "code",
      "metadata": {
        "id": "3ybeLDCL-sMo",
        "colab_type": "code",
        "outputId": "796203ca-d9dc-4d83-f139-949168682e06",
        "colab": {
          "base_uri": "https://localhost:8080/",
          "height": 87
        }
      },
      "source": [
        "print(mushroom.groupby('class').size())"
      ],
      "execution_count": 0,
      "outputs": [
        {
          "output_type": "stream",
          "text": [
            "class\n",
            "e    4208\n",
            "p    3916\n",
            "dtype: int64\n"
          ],
          "name": "stdout"
        }
      ]
    },
    {
      "cell_type": "code",
      "metadata": {
        "id": "TYf9ty9Jj6Rg",
        "colab_type": "code",
        "outputId": "aad038f4-d018-441d-d715-cb25220a254e",
        "colab": {
          "base_uri": "https://localhost:8080/",
          "height": 297
        }
      },
      "source": [
        "sns.countplot(x='class',data=mushroom)"
      ],
      "execution_count": 0,
      "outputs": [
        {
          "output_type": "execute_result",
          "data": {
            "text/plain": [
              "<matplotlib.axes._subplots.AxesSubplot at 0x7fe2a8875eb8>"
            ]
          },
          "metadata": {
            "tags": []
          },
          "execution_count": 15
        },
        {
          "output_type": "display_data",
          "data": {
            "image/png": "[encoded data removed]",
            "text/plain": [
              "<Figure size 432x288 with 1 Axes>"
            ]
          },
          "metadata": {
            "tags": []
          }
        }
      ]
    },
    {
      "cell_type": "code",
      "metadata": {
        "id": "uHWm127GUXR-",
        "colab_type": "code",
        "outputId": "4eff20c4-8895-4cf7-da0e-d17f1ff2d393",
        "colab": {
          "base_uri": "https://localhost:8080/",
          "height": 649
        }
      },
      "source": [
        "cap_colors = mushroom['cap-color'].value_counts()\n",
        "ind = np.arange(10)\n",
        "m_height = cap_colors.values.tolist()\n",
        "colors = ['#DEB887','#778899','#DC143C','#FFFF99','blue','#F0DC82','#FF69B4','#D22D1E','#C000C5','g']\n",
        "fig, ax = plt.subplots(figsize=(10,7))\n",
        "mushroom_bars = ax.bar(ind,m_height, color=colors)\n",
        "ax.set_xlabel(\"Cap Color\",fontsize=20)\n",
        "ax.set_ylabel('Quantity',fontsize=20)\n",
        "ax.set_title('Mushroom Cap Color Quantity',fontsize=22)\n",
        "ax.set_xticks(ind) \n",
        "ax.set_xticklabels(('brown', 'gray','red','yellow','blue','buff','pink','cinnamon','purple','green'),\n",
        "                  fontsize = 12)"
      ],
      "execution_count": 0,
      "outputs": [
        {
          "output_type": "execute_result",
          "data": {
            "text/plain": [
              "[Text(0, 0, 'brown'),\n",
              " Text(0, 0, 'gray'),\n",
              " Text(0, 0, 'red'),\n",
              " Text(0, 0, 'yellow'),\n",
              " Text(0, 0, 'blue'),\n",
              " Text(0, 0, 'buff'),\n",
              " Text(0, 0, 'pink'),\n",
              " Text(0, 0, 'cinnamon'),\n",
              " Text(0, 0, 'purple'),\n",
              " Text(0, 0, 'green')]"
            ]
          },
          "metadata": {
            "tags": []
          },
          "execution_count": 11
        },
        {
          "output_type": "display_data",
          "data": {
            "image/png": "[encoded data removed]",
            "text/plain": [
              "<Figure size 720x504 with 1 Axes>"
            ]
          },
          "metadata": {
            "tags": []
          }
        }
      ]
    },
    {
      "cell_type": "code",
      "metadata": {
        "id": "5hXDbmoWbdap",
        "colab_type": "code",
        "outputId": "974f377d-3dcd-4358-807e-60f13ba0f09f",
        "colab": {
          "base_uri": "https://localhost:8080/",
          "height": 619
        }
      },
      "source": [
        "color_dict = {\"brown\":\"n\",\"yellow\":\"y\", \"blue\":\"w\", \"gray\":\"g\", \"red\":\"e\",\"pink\":\"p\",\n",
        "              \"orange\":\"b\", \"purple\":\"u\", \"black\":\"c\", \"green\":\"r\"}\n",
        "fig, ax = plt.subplots(figsize=(15, 7))\n",
        "            \n",
        "sns.countplot(x='cap-color',hue='class',data=mushroom)\n",
        "ax.set_xticklabels(('brown', 'gray','red','yellow','blue','buff','pink','cinnamon','purple','green'),\n",
        "                  fontsize = 12)"
      ],
      "execution_count": 0,
      "outputs": [
        {
          "output_type": "execute_result",
          "data": {
            "text/plain": [
              "[Text(0, 0, 'brown'),\n",
              " Text(0, 0, 'gray'),\n",
              " Text(0, 0, 'red'),\n",
              " Text(0, 0, 'yellow'),\n",
              " Text(0, 0, 'blue'),\n",
              " Text(0, 0, 'buff'),\n",
              " Text(0, 0, 'pink'),\n",
              " Text(0, 0, 'cinnamon'),\n",
              " Text(0, 0, 'purple'),\n",
              " Text(0, 0, 'green')]"
            ]
          },
          "metadata": {
            "tags": []
          },
          "execution_count": 12
        },
        {
          "output_type": "display_data",
          "data": {
            "image/png": "[encoded data removed]",
            "text/plain": [
              "<Figure size 1080x504 with 1 Axes>"
            ]
          },
          "metadata": {
            "tags": []
          }
        }
      ]
    },
    {
      "cell_type": "code",
      "metadata": {
        "id": "bQI8XOiYxCPq",
        "colab_type": "code",
        "outputId": "0772f58f-07ca-43a0-e443-321facd52dcc",
        "colab": {
          "base_uri": "https://localhost:8080/",
          "height": 549
        }
      },
      "source": [
        "fig, ax = plt.subplots(figsize=(15, 7))\n",
        "sns.countplot(x='cap-shape',label='labels',data=mushroom)\n",
        "ax.set_xticklabels(('convex', 'bell', 'sunken', 'flat', 'knobbed', 'conical'),\n",
        "                  fontsize = 12)"
      ],
      "execution_count": 0,
      "outputs": [
        {
          "output_type": "execute_result",
          "data": {
            "text/plain": [
              "[Text(0, 0, 'convex'),\n",
              " Text(0, 0, 'bell'),\n",
              " Text(0, 0, 'sunken'),\n",
              " Text(0, 0, 'flat'),\n",
              " Text(0, 0, 'knobbed'),\n",
              " Text(0, 0, 'conical')]"
            ]
          },
          "metadata": {
            "tags": []
          },
          "execution_count": 13
        },
        {
          "output_type": "display_data",
          "data": {
            "image/png": "[encoded data removed]",
            "text/plain": [
              "<Figure size 1080x504 with 1 Axes>"
            ]
          },
          "metadata": {
            "tags": []
          }
        }
      ]
    },
    {
      "cell_type": "code",
      "metadata": {
        "id": "15_dQA3xjx-p",
        "colab_type": "code",
        "outputId": "d7c6fc41-0d22-467a-f669-2b55bea1dfc4",
        "colab": {
          "base_uri": "https://localhost:8080/",
          "height": 549
        }
      },
      "source": [
        "fig, ax = plt.subplots(figsize=(15, 7))\n",
        "shape_dict = {\"bell\":\"b\",\"conical\":\"c\",\"convex\":\"x\",\"flat\":\"f\", \"knobbed\":\"k\",\"sunken\":\"s\"}\n",
        "labels = ('convex', 'bell', 'sunken', 'flat', 'knobbed', 'conical')\n",
        "sns.countplot(x='cap-shape',hue='class',data=mushroom)\n",
        "ax.set_xticklabels(('convex', 'bell', 'sunken', 'flat', 'knobbed', 'conical'),\n",
        "                  fontsize = 12)"
      ],
      "execution_count": 0,
      "outputs": [
        {
          "output_type": "execute_result",
          "data": {
            "text/plain": [
              "[Text(0, 0, 'convex'),\n",
              " Text(0, 0, 'bell'),\n",
              " Text(0, 0, 'sunken'),\n",
              " Text(0, 0, 'flat'),\n",
              " Text(0, 0, 'knobbed'),\n",
              " Text(0, 0, 'conical')]"
            ]
          },
          "metadata": {
            "tags": []
          },
          "execution_count": 14
        },
        {
          "output_type": "display_data",
          "data": {
            "image/png": "[encoded data removed]",
            "text/plain": [
              "<Figure size 1080x504 with 1 Axes>"
            ]
          },
          "metadata": {
            "tags": []
          }
        }
      ]
    },
    {
      "cell_type": "code",
      "metadata": {
        "id": "EVAWp80_y0p2",
        "colab_type": "code",
        "outputId": "42f6a6d1-51f7-4921-ee7c-978dc64f469c",
        "colab": {
          "base_uri": "https://localhost:8080/",
          "height": 601
        }
      },
      "source": [
        "odor_dict = {\"almond\":\"a\",\"anise\":\"l\",\"creosote\":\"c\",\"fishy\":\"y\",\n",
        "             \"foul\":\"f\",\"musty\":\"m\",\"none\":\"n\",\"pungent\":\"p\",\"spicy\":\"s\"}\n",
        "colors=color_dict.keys()\n",
        "labels=odor_dict.keys()\n",
        "fig, ax = plt.subplots(figsize=(15, 7))\n",
        "sns.countplot(x='odor',palette=colors,data=mushroom)\n",
        "ax.set_xticklabels(('pungent', 'almond', 'anise', 'none', 'foul', 'creosote','fishy',\"spicy\",\"musty\"),\n",
        "                  fontsize = 12)"
      ],
      "execution_count": 0,
      "outputs": [
        {
          "output_type": "execute_result",
          "data": {
            "text/plain": [
              "[Text(0, 0, 'pungent'),\n",
              " Text(0, 0, 'almond'),\n",
              " Text(0, 0, 'anise'),\n",
              " Text(0, 0, 'none'),\n",
              " Text(0, 0, 'foul'),\n",
              " Text(0, 0, 'creosote'),\n",
              " Text(0, 0, 'fishy'),\n",
              " Text(0, 0, 'spicy'),\n",
              " Text(0, 0, 'musty')]"
            ]
          },
          "metadata": {
            "tags": []
          },
          "execution_count": 16
        },
        {
          "output_type": "display_data",
          "data": {
            "image/png": "[encoded data removed]",
            "text/plain": [
              "<Figure size 1080x504 with 1 Axes>"
            ]
          },
          "metadata": {
            "tags": []
          }
        }
      ]
    },
    {
      "cell_type": "code",
      "metadata": {
        "id": "SitmBUs2lOCl",
        "colab_type": "code",
        "outputId": "e9f97008-e7f4-49a5-9e25-071f55a14d38",
        "colab": {
          "base_uri": "https://localhost:8080/",
          "height": 601
        }
      },
      "source": [
        "\n",
        "fig, ax = plt.subplots(figsize=(15, 7))\n",
        "sns.countplot(x='odor',hue='class',data=mushroom)\n",
        "ax.set_xticklabels(('pungent', 'almond', 'anise', 'none', 'foul', 'creosote','fishy',\"spicy\",\"musty\"),\n",
        "                  fontsize = 12)"
      ],
      "execution_count": 0,
      "outputs": [
        {
          "output_type": "execute_result",
          "data": {
            "text/plain": [
              "[Text(0, 0, 'pungent'),\n",
              " Text(0, 0, 'almond'),\n",
              " Text(0, 0, 'anise'),\n",
              " Text(0, 0, 'none'),\n",
              " Text(0, 0, 'foul'),\n",
              " Text(0, 0, 'creosote'),\n",
              " Text(0, 0, 'fishy'),\n",
              " Text(0, 0, 'spicy'),\n",
              " Text(0, 0, 'musty')]"
            ]
          },
          "metadata": {
            "tags": []
          },
          "execution_count": 17
        },
        {
          "output_type": "display_data",
          "data": {
            "image/png": "[encoded data removed]",
            "text/plain": [
              "<Figure size 1080x504 with 1 Axes>"
            ]
          },
          "metadata": {
            "tags": []
          }
        }
      ]
    },
    {
      "cell_type": "code",
      "metadata": {
        "id": "Ii4w89IqzzRy",
        "colab_type": "code",
        "outputId": "ec7f8c4c-2446-4298-c909-17befb2ac23c",
        "colab": {
          "base_uri": "https://localhost:8080/",
          "height": 1000
        }
      },
      "source": [
        "hue1=mushroom['class']\n",
        "for i,col in enumerate(mushroom.columns):\n",
        "  plt.figure(i)\n",
        "  sns.countplot(x=col,hue=hue1,data=mushroom)"
      ],
      "execution_count": 0,
      "outputs": [
        {
          "output_type": "stream",
          "text": [
            "/usr/local/lib/python3.6/dist-packages/ipykernel_launcher.py:3: RuntimeWarning: More than 20 figures have been opened. Figures created through the pyplot interface (`matplotlib.pyplot.figure`) are retained until explicitly closed and may consume too much memory. (To control this warning, see the rcParam `figure.max_open_warning`).\n",
            "  This is separate from the ipykernel package so we can avoid doing imports until\n"
          ],
          "name": "stderr"
        },
        {
          "output_type": "display_data",
          "data": {
            "image/png": "[encoded data removed]",
            "text/plain": [
              "<Figure size 432x288 with 1 Axes>"
            ]
          },
          "metadata": {
            "tags": []
          }
        },
        {
          "output_type": "display_data",
          "data": {
            "image/png": "[encoded data removed]",
            "text/plain": [
              "<Figure size 432x288 with 1 Axes>"
            ]
          },
          "metadata": {
            "tags": []
          }
        },
        {
          "output_type": "display_data",
          "data": {
            "image/png": "[encoded data removed]",
            "text/plain": [
              "<Figure size 432x288 with 1 Axes>"
            ]
          },
          "metadata": {
            "tags": []
          }
        },
        {
          "output_type": "display_data",
          "data": {
            "image/png": "[encoded data removed]",
            "text/plain": [
              "<Figure size 432x288 with 1 Axes>"
            ]
          },
          "metadata": {
            "tags": []
          }
        },
        {
          "output_type": "display_data",
          "data": {
            "image/png": "[encoded data removed]",
            "text/plain": [
              "<Figure size 432x288 with 1 Axes>"
            ]
          },
          "metadata": {
            "tags": []
          }
        },
        {
          "output_type": "display_data",
          "data": {
            "image/png": "[encoded data removed]",
            "text/plain": [
              "<Figure size 432x288 with 1 Axes>"
            ]
          },
          "metadata": {
            "tags": []
          }
        },
        {
          "output_type": "display_data",
          "data": {
            "image/png": "[encoded data removed]",
            "text/plain": [
              "<Figure size 432x288 with 1 Axes>"
            ]
          },
          "metadata": {
            "tags": []
          }
        },
        {
          "output_type": "display_data",
          "data": {
            "image/png": "[encoded data removed]",
            "text/plain": [
              "<Figure size 432x288 with 1 Axes>"
            ]
          },
          "metadata": {
            "tags": []
          }
        },
        {
          "output_type": "display_data",
          "data": {
            "image/png": "[encoded data removed]",
            "text/plain": [
              "<Figure size 432x288 with 1 Axes>"
            ]
          },
          "metadata": {
            "tags": []
          }
        },
        {
          "output_type": "display_data",
          "data": {
            "image/png": "[encoded data removed]",
            "text/plain": [
              "<Figure size 432x288 with 1 Axes>"
            ]
          },
          "metadata": {
            "tags": []
          }
        },
        {
          "output_type": "display_data",
          "data": {
            "image/png": "[encoded data removed]",
            "text/plain": [
              "<Figure size 432x288 with 1 Axes>"
            ]
          },
          "metadata": {
            "tags": []
          }
        },
        {
          "output_type": "display_data",
          "data": {
            "image/png": "[encoded data removed]",
            "text/plain": [
              "<Figure size 432x288 with 1 Axes>"
            ]
          },
          "metadata": {
            "tags": []
          }
        },
        {
          "output_type": "display_data",
          "data": {
            "image/png": "[encoded data removed]",
            "text/plain": [
              "<Figure size 432x288 with 1 Axes>"
            ]
          },
          "metadata": {
            "tags": []
          }
        },
        {
          "output_type": "display_data",
          "data": {
            "image/png": "[encoded data removed]",
            "text/plain": [
              "<Figure size 432x288 with 1 Axes>"
            ]
          },
          "metadata": {
            "tags": []
          }
        },
        {
          "output_type": "display_data",
          "data": {
            "image/png": "[encoded data removed]",
            "text/plain": [
              "<Figure size 432x288 with 1 Axes>"
            ]
          },
          "metadata": {
            "tags": []
          }
        },
        {
          "output_type": "display_data",
          "data": {
            "image/png": "[encoded data removed]",
            "text/plain": [
              "<Figure size 432x288 with 1 Axes>"
            ]
          },
          "metadata": {
            "tags": []
          }
        },
        {
          "output_type": "display_data",
          "data": {
            "image/png": "[encoded data removed]",
            "text/plain": [
              "<Figure size 432x288 with 1 Axes>"
            ]
          },
          "metadata": {
            "tags": []
          }
        },
        {
          "output_type": "display_data",
          "data": {
            "image/png": "[encoded data removed]",
            "text/plain": [
              "<Figure size 432x288 with 1 Axes>"
            ]
          },
          "metadata": {
            "tags": []
          }
        },
        {
          "output_type": "display_data",
          "data": {
            "image/png": "[encoded data removed]",
            "text/plain": [
              "<Figure size 432x288 with 1 Axes>"
            ]
          },
          "metadata": {
            "tags": []
          }
        },
        {
          "output_type": "display_data",
          "data": {
            "image/png": "[encoded data removed]",
            "text/plain": [
              "<Figure size 432x288 with 1 Axes>"
            ]
          },
          "metadata": {
            "tags": []
          }
        },
        {
          "output_type": "display_data",
          "data": {
            "image/png": "[encoded data removed]",
            "text/plain": [
              "<Figure size 432x288 with 1 Axes>"
            ]
          },
          "metadata": {
            "tags": []
          }
        },
        {
          "output_type": "display_data",
          "data": {
            "image/png": "[encoded data removed]",
            "text/plain": [
              "<Figure size 432x288 with 1 Axes>"
            ]
          },
          "metadata": {
            "tags": []
          }
        },
        {
          "output_type": "display_data",
          "data": {
            "image/png": "[encoded data removed]",
            "text/plain": [
              "<Figure size 432x288 with 1 Axes>"
            ]
          },
          "metadata": {
            "tags": []
          }
        }
      ]
    },
    {
      "cell_type": "code",
      "metadata": {
        "id": "pDkUw-Ni2mgl",
        "colab_type": "code",
        "outputId": "dd89c4d1-25cd-435d-dd92-e9f0f25158a9",
        "colab": {
          "base_uri": "https://localhost:8080/",
          "height": 482
        }
      },
      "source": [
        "plt.figure(figsize=(8,8))\n",
        "pop_labels = 'Several', 'Solitary', 'Scattered', 'Numerous', 'Abundant', 'Clustered'\n",
        "labels=list(mushroom['population'].unique())\n",
        "plt.pie(mushroom['population'].value_counts(),labels=pop_labels,autopct='%1.1f%%', \n",
        "        shadow=True)\n",
        "plt.title('Mushroom Population Type Percentange')\n",
        "plt.show()"
      ],
      "execution_count": 0,
      "outputs": [
        {
          "output_type": "display_data",
          "data": {
            "image/png": "[encoded data removed]",
            "text/plain": [
              "<Figure size 576x576 with 1 Axes>"
            ]
          },
          "metadata": {
            "tags": []
          }
        }
      ]
    },
    {
      "cell_type": "code",
      "metadata": {
        "id": "ID4U2jG88sCm",
        "colab_type": "code",
        "outputId": "382443b6-904f-40c7-d79c-898b9d34096d",
        "colab": {
          "base_uri": "https://localhost:8080/",
          "height": 482
        }
      },
      "source": [
        "plt.figure(figsize=(8,8))\n",
        "hab_labels = 'Woods', 'Grasses', 'Paths', 'Leaves', 'Urban', 'Meadows', 'Waste'\n",
        "labels1=list(mushroom['habitat'].unique())\n",
        "plt.pie(mushroom['habitat'].value_counts(),labels=hab_labels,autopct='%1.1f%%', \n",
        "        shadow=True, startangle=90)\n",
        "plt.title('Mushroom Habitat Type Percentange')\n",
        "plt.show()"
      ],
      "execution_count": 0,
      "outputs": [
        {
          "output_type": "display_data",
          "data": {
            "image/png": "[encoded data removed]",
            "text/plain": [
              "<Figure size 576x576 with 1 Axes>"
            ]
          },
          "metadata": {
            "tags": []
          }
        }
      ]
    },
    {
      "cell_type": "markdown",
      "metadata": {
        "id": "8lS_9iDOPuhD",
        "colab_type": "text"
      },
      "source": [
        "Data Preprocessing"
      ]
    },
    {
      "cell_type": "code",
      "metadata": {
        "colab_type": "code",
        "outputId": "28f5ba8d-8a96-44df-8c6a-a7d1e647f6c8",
        "id": "s7F4IpLmvtMH",
        "colab": {
          "base_uri": "https://localhost:8080/",
          "height": 274
        }
      },
      "source": [
        "from sklearn.preprocessing import LabelEncoder\n",
        "labelencoder=LabelEncoder()\n",
        "for column in mushroom.columns:\n",
        "    mushroom[column]=labelencoder.fit_transform(mushroom[column])\n",
        "    \n",
        "mushroom.head()"
      ],
      "execution_count": 0,
      "outputs": [
        {
          "output_type": "execute_result",
          "data": {
            "text/html": [
              "<div>\n",
              "<style scoped>\n",
              "    .dataframe tbody tr th:only-of-type {\n",
              "        vertical-align: middle;\n",
              "    }\n",
              "\n",
              "    .dataframe tbody tr th {\n",
              "        vertical-align: top;\n",
              "    }\n",
              "\n",
              "    .dataframe thead th {\n",
              "        text-align: right;\n",
              "    }\n",
              "</style>\n",
              "<table border=\"1\" class=\"dataframe\">\n",
              "  <thead>\n",
              "    <tr style=\"text-align: right;\">\n",
              "      <th></th>\n",
              "      <th>class</th>\n",
              "      <th>cap-shape</th>\n",
              "      <th>cap-surface</th>\n",
              "      <th>cap-color</th>\n",
              "      <th>bruises</th>\n",
              "      <th>odor</th>\n",
              "      <th>gill-attachment</th>\n",
              "      <th>gill-spacing</th>\n",
              "      <th>gill-size</th>\n",
              "      <th>gill-color</th>\n",
              "      <th>stalk-shape</th>\n",
              "      <th>stalk-root</th>\n",
              "      <th>stalk-surface-above-ring</th>\n",
              "      <th>stalk-surface-below-ring</th>\n",
              "      <th>stalk-color-above-ring</th>\n",
              "      <th>stalk-color-below-ring</th>\n",
              "      <th>veil-type</th>\n",
              "      <th>veil-color</th>\n",
              "      <th>ring-number</th>\n",
              "      <th>ring-type</th>\n",
              "      <th>spore-print-color</th>\n",
              "      <th>population</th>\n",
              "      <th>habitat</th>\n",
              "    </tr>\n",
              "  </thead>\n",
              "  <tbody>\n",
              "    <tr>\n",
              "      <th>0</th>\n",
              "      <td>1</td>\n",
              "      <td>5</td>\n",
              "      <td>2</td>\n",
              "      <td>4</td>\n",
              "      <td>1</td>\n",
              "      <td>6</td>\n",
              "      <td>1</td>\n",
              "      <td>0</td>\n",
              "      <td>1</td>\n",
              "      <td>4</td>\n",
              "      <td>0</td>\n",
              "      <td>3</td>\n",
              "      <td>2</td>\n",
              "      <td>2</td>\n",
              "      <td>7</td>\n",
              "      <td>7</td>\n",
              "      <td>0</td>\n",
              "      <td>2</td>\n",
              "      <td>1</td>\n",
              "      <td>4</td>\n",
              "      <td>2</td>\n",
              "      <td>3</td>\n",
              "      <td>5</td>\n",
              "    </tr>\n",
              "    <tr>\n",
              "      <th>1</th>\n",
              "      <td>0</td>\n",
              "      <td>5</td>\n",
              "      <td>2</td>\n",
              "      <td>9</td>\n",
              "      <td>1</td>\n",
              "      <td>0</td>\n",
              "      <td>1</td>\n",
              "      <td>0</td>\n",
              "      <td>0</td>\n",
              "      <td>4</td>\n",
              "      <td>0</td>\n",
              "      <td>2</td>\n",
              "      <td>2</td>\n",
              "      <td>2</td>\n",
              "      <td>7</td>\n",
              "      <td>7</td>\n",
              "      <td>0</td>\n",
              "      <td>2</td>\n",
              "      <td>1</td>\n",
              "      <td>4</td>\n",
              "      <td>3</td>\n",
              "      <td>2</td>\n",
              "      <td>1</td>\n",
              "    </tr>\n",
              "    <tr>\n",
              "      <th>2</th>\n",
              "      <td>0</td>\n",
              "      <td>0</td>\n",
              "      <td>2</td>\n",
              "      <td>8</td>\n",
              "      <td>1</td>\n",
              "      <td>3</td>\n",
              "      <td>1</td>\n",
              "      <td>0</td>\n",
              "      <td>0</td>\n",
              "      <td>5</td>\n",
              "      <td>0</td>\n",
              "      <td>2</td>\n",
              "      <td>2</td>\n",
              "      <td>2</td>\n",
              "      <td>7</td>\n",
              "      <td>7</td>\n",
              "      <td>0</td>\n",
              "      <td>2</td>\n",
              "      <td>1</td>\n",
              "      <td>4</td>\n",
              "      <td>3</td>\n",
              "      <td>2</td>\n",
              "      <td>3</td>\n",
              "    </tr>\n",
              "    <tr>\n",
              "      <th>3</th>\n",
              "      <td>1</td>\n",
              "      <td>5</td>\n",
              "      <td>3</td>\n",
              "      <td>8</td>\n",
              "      <td>1</td>\n",
              "      <td>6</td>\n",
              "      <td>1</td>\n",
              "      <td>0</td>\n",
              "      <td>1</td>\n",
              "      <td>5</td>\n",
              "      <td>0</td>\n",
              "      <td>3</td>\n",
              "      <td>2</td>\n",
              "      <td>2</td>\n",
              "      <td>7</td>\n",
              "      <td>7</td>\n",
              "      <td>0</td>\n",
              "      <td>2</td>\n",
              "      <td>1</td>\n",
              "      <td>4</td>\n",
              "      <td>2</td>\n",
              "      <td>3</td>\n",
              "      <td>5</td>\n",
              "    </tr>\n",
              "    <tr>\n",
              "      <th>4</th>\n",
              "      <td>0</td>\n",
              "      <td>5</td>\n",
              "      <td>2</td>\n",
              "      <td>3</td>\n",
              "      <td>0</td>\n",
              "      <td>5</td>\n",
              "      <td>1</td>\n",
              "      <td>1</td>\n",
              "      <td>0</td>\n",
              "      <td>4</td>\n",
              "      <td>1</td>\n",
              "      <td>3</td>\n",
              "      <td>2</td>\n",
              "      <td>2</td>\n",
              "      <td>7</td>\n",
              "      <td>7</td>\n",
              "      <td>0</td>\n",
              "      <td>2</td>\n",
              "      <td>1</td>\n",
              "      <td>0</td>\n",
              "      <td>3</td>\n",
              "      <td>0</td>\n",
              "      <td>1</td>\n",
              "    </tr>\n",
              "  </tbody>\n",
              "</table>\n",
              "</div>"
            ],
            "text/plain": [
              "   class  cap-shape  cap-surface  ...  spore-print-color  population  habitat\n",
              "0      1          5            2  ...                  2           3        5\n",
              "1      0          5            2  ...                  3           2        1\n",
              "2      0          0            2  ...                  3           2        3\n",
              "3      1          5            3  ...                  2           3        5\n",
              "4      0          5            2  ...                  3           0        1\n",
              "\n",
              "[5 rows x 23 columns]"
            ]
          },
          "metadata": {
            "tags": []
          },
          "execution_count": 43
        }
      ]
    },
    {
      "cell_type": "code",
      "metadata": {
        "id": "ZjhhYia9_IpI",
        "colab_type": "code",
        "outputId": "50500fc6-fff7-4d6f-fd99-e6981984608c",
        "colab": {
          "base_uri": "https://localhost:8080/",
          "height": 274
        }
      },
      "source": [
        "x=mushroom[mushroom.columns]\n",
        "x=x.drop(columns=['class'])\n",
        "x.head()"
      ],
      "execution_count": 0,
      "outputs": [
        {
          "output_type": "execute_result",
          "data": {
            "text/html": [
              "<div>\n",
              "<style scoped>\n",
              "    .dataframe tbody tr th:only-of-type {\n",
              "        vertical-align: middle;\n",
              "    }\n",
              "\n",
              "    .dataframe tbody tr th {\n",
              "        vertical-align: top;\n",
              "    }\n",
              "\n",
              "    .dataframe thead th {\n",
              "        text-align: right;\n",
              "    }\n",
              "</style>\n",
              "<table border=\"1\" class=\"dataframe\">\n",
              "  <thead>\n",
              "    <tr style=\"text-align: right;\">\n",
              "      <th></th>\n",
              "      <th>cap-shape</th>\n",
              "      <th>cap-surface</th>\n",
              "      <th>cap-color</th>\n",
              "      <th>bruises</th>\n",
              "      <th>odor</th>\n",
              "      <th>gill-attachment</th>\n",
              "      <th>gill-spacing</th>\n",
              "      <th>gill-size</th>\n",
              "      <th>gill-color</th>\n",
              "      <th>stalk-shape</th>\n",
              "      <th>stalk-root</th>\n",
              "      <th>stalk-surface-above-ring</th>\n",
              "      <th>stalk-surface-below-ring</th>\n",
              "      <th>stalk-color-above-ring</th>\n",
              "      <th>stalk-color-below-ring</th>\n",
              "      <th>veil-type</th>\n",
              "      <th>veil-color</th>\n",
              "      <th>ring-number</th>\n",
              "      <th>ring-type</th>\n",
              "      <th>spore-print-color</th>\n",
              "      <th>population</th>\n",
              "      <th>habitat</th>\n",
              "    </tr>\n",
              "  </thead>\n",
              "  <tbody>\n",
              "    <tr>\n",
              "      <th>0</th>\n",
              "      <td>5</td>\n",
              "      <td>2</td>\n",
              "      <td>4</td>\n",
              "      <td>1</td>\n",
              "      <td>6</td>\n",
              "      <td>1</td>\n",
              "      <td>0</td>\n",
              "      <td>1</td>\n",
              "      <td>4</td>\n",
              "      <td>0</td>\n",
              "      <td>3</td>\n",
              "      <td>2</td>\n",
              "      <td>2</td>\n",
              "      <td>7</td>\n",
              "      <td>7</td>\n",
              "      <td>0</td>\n",
              "      <td>2</td>\n",
              "      <td>1</td>\n",
              "      <td>4</td>\n",
              "      <td>2</td>\n",
              "      <td>3</td>\n",
              "      <td>5</td>\n",
              "    </tr>\n",
              "    <tr>\n",
              "      <th>1</th>\n",
              "      <td>5</td>\n",
              "      <td>2</td>\n",
              "      <td>9</td>\n",
              "      <td>1</td>\n",
              "      <td>0</td>\n",
              "      <td>1</td>\n",
              "      <td>0</td>\n",
              "      <td>0</td>\n",
              "      <td>4</td>\n",
              "      <td>0</td>\n",
              "      <td>2</td>\n",
              "      <td>2</td>\n",
              "      <td>2</td>\n",
              "      <td>7</td>\n",
              "      <td>7</td>\n",
              "      <td>0</td>\n",
              "      <td>2</td>\n",
              "      <td>1</td>\n",
              "      <td>4</td>\n",
              "      <td>3</td>\n",
              "      <td>2</td>\n",
              "      <td>1</td>\n",
              "    </tr>\n",
              "    <tr>\n",
              "      <th>2</th>\n",
              "      <td>0</td>\n",
              "      <td>2</td>\n",
              "      <td>8</td>\n",
              "      <td>1</td>\n",
              "      <td>3</td>\n",
              "      <td>1</td>\n",
              "      <td>0</td>\n",
              "      <td>0</td>\n",
              "      <td>5</td>\n",
              "      <td>0</td>\n",
              "      <td>2</td>\n",
              "      <td>2</td>\n",
              "      <td>2</td>\n",
              "      <td>7</td>\n",
              "      <td>7</td>\n",
              "      <td>0</td>\n",
              "      <td>2</td>\n",
              "      <td>1</td>\n",
              "      <td>4</td>\n",
              "      <td>3</td>\n",
              "      <td>2</td>\n",
              "      <td>3</td>\n",
              "    </tr>\n",
              "    <tr>\n",
              "      <th>3</th>\n",
              "      <td>5</td>\n",
              "      <td>3</td>\n",
              "      <td>8</td>\n",
              "      <td>1</td>\n",
              "      <td>6</td>\n",
              "      <td>1</td>\n",
              "      <td>0</td>\n",
              "      <td>1</td>\n",
              "      <td>5</td>\n",
              "      <td>0</td>\n",
              "      <td>3</td>\n",
              "      <td>2</td>\n",
              "      <td>2</td>\n",
              "      <td>7</td>\n",
              "      <td>7</td>\n",
              "      <td>0</td>\n",
              "      <td>2</td>\n",
              "      <td>1</td>\n",
              "      <td>4</td>\n",
              "      <td>2</td>\n",
              "      <td>3</td>\n",
              "      <td>5</td>\n",
              "    </tr>\n",
              "    <tr>\n",
              "      <th>4</th>\n",
              "      <td>5</td>\n",
              "      <td>2</td>\n",
              "      <td>3</td>\n",
              "      <td>0</td>\n",
              "      <td>5</td>\n",
              "      <td>1</td>\n",
              "      <td>1</td>\n",
              "      <td>0</td>\n",
              "      <td>4</td>\n",
              "      <td>1</td>\n",
              "      <td>3</td>\n",
              "      <td>2</td>\n",
              "      <td>2</td>\n",
              "      <td>7</td>\n",
              "      <td>7</td>\n",
              "      <td>0</td>\n",
              "      <td>2</td>\n",
              "      <td>1</td>\n",
              "      <td>0</td>\n",
              "      <td>3</td>\n",
              "      <td>0</td>\n",
              "      <td>1</td>\n",
              "    </tr>\n",
              "  </tbody>\n",
              "</table>\n",
              "</div>"
            ],
            "text/plain": [
              "   cap-shape  cap-surface  cap-color  ...  spore-print-color  population  habitat\n",
              "0          5            2          4  ...                  2           3        5\n",
              "1          5            2          9  ...                  3           2        1\n",
              "2          0            2          8  ...                  3           2        3\n",
              "3          5            3          8  ...                  2           3        5\n",
              "4          5            2          3  ...                  3           0        1\n",
              "\n",
              "[5 rows x 22 columns]"
            ]
          },
          "metadata": {
            "tags": []
          },
          "execution_count": 44
        }
      ]
    },
    {
      "cell_type": "code",
      "metadata": {
        "id": "EG6ivI-9_X_q",
        "colab_type": "code",
        "outputId": "4743c857-bab3-45e4-8e8b-33bc516dd42e",
        "colab": {
          "base_uri": "https://localhost:8080/",
          "height": 121
        }
      },
      "source": [
        "y=mushroom['class']\n",
        "y.head()"
      ],
      "execution_count": 0,
      "outputs": [
        {
          "output_type": "execute_result",
          "data": {
            "text/plain": [
              "0    1\n",
              "1    0\n",
              "2    0\n",
              "3    1\n",
              "4    0\n",
              "Name: class, dtype: int64"
            ]
          },
          "metadata": {
            "tags": []
          },
          "execution_count": 45
        }
      ]
    },
    {
      "cell_type": "code",
      "metadata": {
        "id": "hGwgJayp_oXL",
        "colab_type": "code",
        "outputId": "36899c42-9883-41cb-f4e6-631b269e8aed",
        "colab": {
          "base_uri": "https://localhost:8080/",
          "height": 104
        }
      },
      "source": [
        "from sklearn.preprocessing import StandardScaler\n",
        "stand_x=StandardScaler()\n",
        "x=stand_x.fit_transform(x)\n",
        "x[0]"
      ],
      "execution_count": 0,
      "outputs": [
        {
          "output_type": "execute_result",
          "data": {
            "text/plain": [
              "array([ 1.02971224,  0.14012794, -0.19824983,  1.18591657,  0.88193766,\n",
              "        0.16289645, -0.43886364,  1.49468272, -0.22899776, -1.14480575,\n",
              "        1.78146019,  0.68377765,  0.58638466,  0.62244139,  0.63199138,\n",
              "        0.        ,  0.14203663, -0.25613174,  0.94808086, -0.67019486,\n",
              "       -0.5143892 ,  2.03002809])"
            ]
          },
          "metadata": {
            "tags": []
          },
          "execution_count": 46
        }
      ]
    },
    {
      "cell_type": "markdown",
      "metadata": {
        "id": "BQoiHi1MP_XN",
        "colab_type": "text"
      },
      "source": [
        "Train-Test Split"
      ]
    },
    {
      "cell_type": "code",
      "metadata": {
        "id": "d6fPJLvJAXcg",
        "colab_type": "code",
        "colab": {}
      },
      "source": [
        "from sklearn.model_selection import train_test_split\n",
        "x_train,x_test,y_train,y_test=train_test_split(x,y,test_size=0.2,random_state=0)"
      ],
      "execution_count": 0,
      "outputs": []
    },
    {
      "cell_type": "markdown",
      "metadata": {
        "id": "6IRzSab_QEje",
        "colab_type": "text"
      },
      "source": [
        "LogisticRegression Model"
      ]
    },
    {
      "cell_type": "code",
      "metadata": {
        "id": "0m9s4JSH_vcN",
        "colab_type": "code",
        "outputId": "c2cfbc18-1b2a-4def-9bf3-1522b97b0d10",
        "colab": {
          "base_uri": "https://localhost:8080/",
          "height": 52
        }
      },
      "source": [
        "from sklearn import linear_model\n",
        "mod1=linear_model.LogisticRegression(multi_class='auto')\n",
        "\n",
        "mod1.fit(x_train,y_train)\n",
        "\n",
        "train_accuracy1=mod1.score(x_train,y_train)\n",
        "print('train accuracy\\t:',train_accuracy1)\n",
        "test_accuracy1=mod1.score(x_test,y_test)\n",
        "print('test accurracy\\t:',test_accuracy1)"
      ],
      "execution_count": 0,
      "outputs": [
        {
          "output_type": "stream",
          "text": [
            "train accuracy\t: 0.95707031851054\n",
            "test accurracy\t: 0.9556923076923077\n"
          ],
          "name": "stdout"
        }
      ]
    },
    {
      "cell_type": "markdown",
      "metadata": {
        "id": "E6pMGijfQVVJ",
        "colab_type": "text"
      },
      "source": [
        "Confusion Matrix And Classification Report"
      ]
    },
    {
      "cell_type": "code",
      "metadata": {
        "id": "9CnPEcnM1p3h",
        "colab_type": "code",
        "outputId": "24d0ce04-9d99-498b-a4ee-db44b4672b1b",
        "colab": {
          "base_uri": "https://localhost:8080/",
          "height": 337
        }
      },
      "source": [
        "y_pred1=mod1.predict(x_test)\n",
        "from sklearn.metrics import confusion_matrix\n",
        "cm1=confusion_matrix(y_test,y_pred1)\n",
        "plt.figure(figsize=(5,5))\n",
        "sns.heatmap(cm1,annot=True)"
      ],
      "execution_count": 0,
      "outputs": [
        {
          "output_type": "execute_result",
          "data": {
            "text/plain": [
              "<matplotlib.axes._subplots.AxesSubplot at 0x7fb2803607f0>"
            ]
          },
          "metadata": {
            "tags": []
          },
          "execution_count": 49
        },
        {
          "output_type": "display_data",
          "data": {
            "image/png": "[encoded data removed]",
            "text/plain": [
              "<Figure size 360x360 with 2 Axes>"
            ]
          },
          "metadata": {
            "tags": []
          }
        }
      ]
    },
    {
      "cell_type": "code",
      "metadata": {
        "id": "UmqbBt4y1rKg",
        "colab_type": "code",
        "outputId": "0db84324-d64e-402f-fbf8-e9424c494b81",
        "colab": {
          "base_uri": "https://localhost:8080/",
          "height": 173
        }
      },
      "source": [
        "from sklearn.metrics import classification_report\n",
        "target=['edible','poisonous']\n",
        "print(classification_report(y_test,y_pred1,target_names=target))"
      ],
      "execution_count": 0,
      "outputs": [
        {
          "output_type": "stream",
          "text": [
            "              precision    recall  f1-score   support\n",
            "\n",
            "      edible       0.95      0.96      0.96       852\n",
            "   poisonous       0.96      0.95      0.95       773\n",
            "\n",
            "    accuracy                           0.96      1625\n",
            "   macro avg       0.96      0.96      0.96      1625\n",
            "weighted avg       0.96      0.96      0.96      1625\n",
            "\n"
          ],
          "name": "stdout"
        }
      ]
    },
    {
      "cell_type": "markdown",
      "metadata": {
        "id": "h5YsQ629lGxt",
        "colab_type": "text"
      },
      "source": [
        "Receiver Operating Characteristic"
      ]
    },
    {
      "cell_type": "code",
      "metadata": {
        "id": "u0jnRjT5kO7c",
        "colab_type": "code",
        "outputId": "665da78f-12bb-4705-a11d-f6b39e8b6917",
        "colab": {
          "base_uri": "https://localhost:8080/",
          "height": 35
        }
      },
      "source": [
        "from sklearn.metrics import roc_curve, auc\n",
        "false_positive_rate1, true_positive_rate1, thresholds1 = roc_curve(y_test, y_pred1)\n",
        "roc_auc1 = auc(false_positive_rate1, true_positive_rate1)\n",
        "roc_auc1"
      ],
      "execution_count": 0,
      "outputs": [
        {
          "output_type": "execute_result",
          "data": {
            "text/plain": [
              "0.9553474360609538"
            ]
          },
          "metadata": {
            "tags": []
          },
          "execution_count": 52
        }
      ]
    },
    {
      "cell_type": "code",
      "metadata": {
        "id": "MTW3is5Nk5sU",
        "colab_type": "code",
        "outputId": "ba08e759-3858-4b03-d3b2-090ab310c654",
        "colab": {
          "base_uri": "https://localhost:8080/",
          "height": 639
        }
      },
      "source": [
        "plt.figure(figsize=(10,10))\n",
        "plt.title('Receiver Operating Characteristic')\n",
        "plt.plot(false_positive_rate1,true_positive_rate1, color='red',label = 'AUC = %0.2f' % roc_auc1)\n",
        "plt.legend(loc = 'lower right')\n",
        "plt.plot([0, 1], [0, 1],linestyle='--')\n",
        "plt.axis('tight')\n",
        "plt.ylabel('True Positive Rate')\n",
        "plt.xlabel('False Positive Rate')"
      ],
      "execution_count": 0,
      "outputs": [
        {
          "output_type": "execute_result",
          "data": {
            "text/plain": [
              "Text(0.5, 0, 'False Positive Rate')"
            ]
          },
          "metadata": {
            "tags": []
          },
          "execution_count": 53
        },
        {
          "output_type": "display_data",
          "data": {
            "image/png": "[encoded data removed]",
            "text/plain": [
              "<Figure size 720x720 with 1 Axes>"
            ]
          },
          "metadata": {
            "tags": []
          }
        }
      ]
    },
    {
      "cell_type": "markdown",
      "metadata": {
        "id": "bCImAI-IRy1n",
        "colab_type": "text"
      },
      "source": [
        "DecisionTreeClassifier Model"
      ]
    },
    {
      "cell_type": "code",
      "metadata": {
        "id": "O0wUexbkBk_O",
        "colab_type": "code",
        "outputId": "e5720233-b92e-4201-87eb-c8b1566fa4cc",
        "colab": {
          "base_uri": "https://localhost:8080/",
          "height": 52
        }
      },
      "source": [
        "from sklearn.tree import DecisionTreeClassifier\n",
        "\n",
        "mod2=DecisionTreeClassifier(min_samples_leaf=15)\n",
        "\n",
        "mod2.fit(x_train,y_train)\n",
        "\n",
        "\n",
        "#model prediction\n",
        "train_accuracy2=mod2.score(x_train,y_train)\n",
        "print('train accuracy\\t:',train_accuracy2)\n",
        "test_accuracy2=mod2.score(x_test,y_test)\n",
        "print('test accurracy\\t:',test_accuracy2)"
      ],
      "execution_count": 0,
      "outputs": [
        {
          "output_type": "stream",
          "text": [
            "train accuracy\t: 0.99523003539006\n",
            "test accurracy\t: 0.9969230769230769\n"
          ],
          "name": "stdout"
        }
      ]
    },
    {
      "cell_type": "markdown",
      "metadata": {
        "id": "5bLb1026QzNq",
        "colab_type": "text"
      },
      "source": [
        "Confusion Matrix And Classification Report"
      ]
    },
    {
      "cell_type": "code",
      "metadata": {
        "id": "Rvpv9Jwi2TrG",
        "colab_type": "code",
        "outputId": "0a5879fd-030d-49d7-f4a5-f17be11a31f8",
        "colab": {
          "base_uri": "https://localhost:8080/",
          "height": 337
        }
      },
      "source": [
        "y_pred2=mod2.predict(x_test)\n",
        "from sklearn.metrics import confusion_matrix\n",
        "cm2=confusion_matrix(y_test,y_pred2)\n",
        "plt.figure(figsize=(5,5))\n",
        "sns.heatmap(cm2,annot=True)"
      ],
      "execution_count": 0,
      "outputs": [
        {
          "output_type": "execute_result",
          "data": {
            "text/plain": [
              "<matplotlib.axes._subplots.AxesSubplot at 0x7fb2874e8198>"
            ]
          },
          "metadata": {
            "tags": []
          },
          "execution_count": 55
        },
        {
          "output_type": "display_data",
          "data": {
            "image/png": "[encoded data removed]",
            "text/plain": [
              "<Figure size 360x360 with 2 Axes>"
            ]
          },
          "metadata": {
            "tags": []
          }
        }
      ]
    },
    {
      "cell_type": "code",
      "metadata": {
        "id": "s5aNGWDP2wW5",
        "colab_type": "code",
        "outputId": "fb96c100-5ced-4ec6-e5cf-c11ab45f117c",
        "colab": {
          "base_uri": "https://localhost:8080/",
          "height": 173
        }
      },
      "source": [
        "from sklearn.metrics import classification_report\n",
        "target=['edible','poisonous']\n",
        "print(classification_report(y_test,y_pred2,target_names=target))"
      ],
      "execution_count": 0,
      "outputs": [
        {
          "output_type": "stream",
          "text": [
            "              precision    recall  f1-score   support\n",
            "\n",
            "      edible       1.00      1.00      1.00       852\n",
            "   poisonous       1.00      1.00      1.00       773\n",
            "\n",
            "    accuracy                           1.00      1625\n",
            "   macro avg       1.00      1.00      1.00      1625\n",
            "weighted avg       1.00      1.00      1.00      1625\n",
            "\n"
          ],
          "name": "stdout"
        }
      ]
    },
    {
      "cell_type": "markdown",
      "metadata": {
        "id": "N_D6gfsDlZqJ",
        "colab_type": "text"
      },
      "source": [
        "Receiver Operating Characteristic"
      ]
    },
    {
      "cell_type": "code",
      "metadata": {
        "id": "hi9afEaRl0wx",
        "colab_type": "code",
        "outputId": "3c33ad6b-1e76-4107-a2c7-82d820fc046a",
        "colab": {
          "base_uri": "https://localhost:8080/",
          "height": 35
        }
      },
      "source": [
        "from sklearn.metrics import roc_curve, auc\n",
        "false_positive_rate2, true_positive_rate2, thresholds2 = roc_curve(y_test, y_pred2)\n",
        "roc_auc2 = auc(false_positive_rate2, true_positive_rate2)\n",
        "roc_auc2"
      ],
      "execution_count": 0,
      "outputs": [
        {
          "output_type": "execute_result",
          "data": {
            "text/plain": [
              "0.9968857994886091"
            ]
          },
          "metadata": {
            "tags": []
          },
          "execution_count": 57
        }
      ]
    },
    {
      "cell_type": "code",
      "metadata": {
        "id": "cTrY943tl1sy",
        "colab_type": "code",
        "outputId": "81570940-9ac8-4e21-cea6-1ac6f01cbf14",
        "colab": {
          "base_uri": "https://localhost:8080/",
          "height": 639
        }
      },
      "source": [
        "plt.figure(figsize=(10,10))\n",
        "plt.title('Receiver Operating Characteristic')\n",
        "plt.plot(false_positive_rate2,true_positive_rate2, color='red',label = 'AUC = %0.2f' % roc_auc2)\n",
        "plt.legend(loc = 'lower right')\n",
        "plt.plot([0, 1], [0, 1],linestyle='--')\n",
        "plt.axis('tight')\n",
        "plt.ylabel('True Positive Rate')\n",
        "plt.xlabel('False Positive Rate')"
      ],
      "execution_count": 0,
      "outputs": [
        {
          "output_type": "execute_result",
          "data": {
            "text/plain": [
              "Text(0.5, 0, 'False Positive Rate')"
            ]
          },
          "metadata": {
            "tags": []
          },
          "execution_count": 58
        },
        {
          "output_type": "display_data",
          "data": {
            "image/png": "[encoded data removed]",
            "text/plain": [
              "<Figure size 720x720 with 1 Axes>"
            ]
          },
          "metadata": {
            "tags": []
          }
        }
      ]
    },
    {
      "cell_type": "markdown",
      "metadata": {
        "id": "upSfptnRSBFn",
        "colab_type": "text"
      },
      "source": [
        "RandomForestClassifier Model"
      ]
    },
    {
      "cell_type": "code",
      "metadata": {
        "id": "6kvkEFuhBwCB",
        "colab_type": "code",
        "outputId": "5fbcf91b-e2ad-4f2d-855d-a7e5b7e4495d",
        "colab": {
          "base_uri": "https://localhost:8080/",
          "height": 52
        }
      },
      "source": [
        "from sklearn.ensemble import RandomForestClassifier\n",
        "\n",
        "\n",
        "mod3=RandomForestClassifier(n_estimators=50,min_samples_leaf=20)\n",
        "\n",
        "mod3.fit(x_train,y_train)\n",
        "#model evaluation\n",
        "train_accuracy3=mod3.score(x_train, y_train)\n",
        "test_accuracy3=mod3.score(x_test, y_test)\n",
        "#model prediction\n",
        "print(\"train_accuracy:\",train_accuracy3)\n",
        "print(\"test_accuracy:\",test_accuracy3)"
      ],
      "execution_count": 0,
      "outputs": [
        {
          "output_type": "stream",
          "text": [
            "train_accuracy: 0.9993845206954917\n",
            "test_accuracy: 1.0\n"
          ],
          "name": "stdout"
        }
      ]
    },
    {
      "cell_type": "markdown",
      "metadata": {
        "id": "0RVa8ew5Q2SQ",
        "colab_type": "text"
      },
      "source": [
        "Confusion Matrix And Classification Report"
      ]
    },
    {
      "cell_type": "code",
      "metadata": {
        "id": "5nzSXEov3TSH",
        "colab_type": "code",
        "outputId": "c7e96395-d419-409e-e06d-3b71b8b2ab33",
        "colab": {
          "base_uri": "https://localhost:8080/",
          "height": 337
        }
      },
      "source": [
        "y_pred3=mod3.predict(x_test)\n",
        "from sklearn.metrics import confusion_matrix\n",
        "cm3=confusion_matrix(y_test,y_pred3)\n",
        "plt.figure(figsize=(5,5))\n",
        "sns.heatmap(cm3,annot=True)"
      ],
      "execution_count": 0,
      "outputs": [
        {
          "output_type": "execute_result",
          "data": {
            "text/plain": [
              "<matplotlib.axes._subplots.AxesSubplot at 0x7fb2871e5dd8>"
            ]
          },
          "metadata": {
            "tags": []
          },
          "execution_count": 60
        },
        {
          "output_type": "display_data",
          "data": {
            "image/png": "[encoded data removed]",
            "text/plain": [
              "<Figure size 360x360 with 2 Axes>"
            ]
          },
          "metadata": {
            "tags": []
          }
        }
      ]
    },
    {
      "cell_type": "code",
      "metadata": {
        "id": "BzOVdp793Vnd",
        "colab_type": "code",
        "outputId": "a60efdec-11b6-495b-964f-627329d4c231",
        "colab": {
          "base_uri": "https://localhost:8080/",
          "height": 173
        }
      },
      "source": [
        "from sklearn.metrics import classification_report\n",
        "target=['edible','poisonous']\n",
        "print(classification_report(y_test,y_pred3,target_names=target))"
      ],
      "execution_count": 0,
      "outputs": [
        {
          "output_type": "stream",
          "text": [
            "              precision    recall  f1-score   support\n",
            "\n",
            "      edible       1.00      1.00      1.00       852\n",
            "   poisonous       1.00      1.00      1.00       773\n",
            "\n",
            "    accuracy                           1.00      1625\n",
            "   macro avg       1.00      1.00      1.00      1625\n",
            "weighted avg       1.00      1.00      1.00      1625\n",
            "\n"
          ],
          "name": "stdout"
        }
      ]
    },
    {
      "cell_type": "markdown",
      "metadata": {
        "id": "xhuxJaLOlcce",
        "colab_type": "text"
      },
      "source": [
        "Receiver Operating Characteristic"
      ]
    },
    {
      "cell_type": "code",
      "metadata": {
        "id": "ussC8PzemAwO",
        "colab_type": "code",
        "outputId": "1c092b4c-c85d-40f4-9a94-8c999118b5c7",
        "colab": {
          "base_uri": "https://localhost:8080/",
          "height": 35
        }
      },
      "source": [
        "from sklearn.metrics import roc_curve, auc\n",
        "false_positive_rate3, true_positive_rate3, thresholds3 = roc_curve(y_test, y_pred3)\n",
        "roc_auc3 = auc(false_positive_rate3, true_positive_rate3)\n",
        "roc_auc3"
      ],
      "execution_count": 0,
      "outputs": [
        {
          "output_type": "execute_result",
          "data": {
            "text/plain": [
              "1.0"
            ]
          },
          "metadata": {
            "tags": []
          },
          "execution_count": 62
        }
      ]
    },
    {
      "cell_type": "code",
      "metadata": {
        "id": "cJNBdiv3l_Ru",
        "colab_type": "code",
        "outputId": "6d20759c-c1ea-4659-8d64-584c6c5d3e70",
        "colab": {
          "base_uri": "https://localhost:8080/",
          "height": 639
        }
      },
      "source": [
        "plt.figure(figsize=(10,10))\n",
        "plt.title('Receiver Operating Characteristic')\n",
        "plt.plot(false_positive_rate3,true_positive_rate3, color='red',label = 'AUC = %0.2f' % roc_auc3)\n",
        "plt.legend(loc = 'lower right')\n",
        "plt.plot([0, 1], [0, 1],linestyle='--')\n",
        "plt.axis('tight')\n",
        "plt.ylabel('True Positive Rate')\n",
        "plt.xlabel('False Positive Rate')"
      ],
      "execution_count": 0,
      "outputs": [
        {
          "output_type": "execute_result",
          "data": {
            "text/plain": [
              "Text(0.5, 0, 'False Positive Rate')"
            ]
          },
          "metadata": {
            "tags": []
          },
          "execution_count": 63
        },
        {
          "output_type": "display_data",
          "data": {
            "image/png": "[encoded data removed]",
            "text/plain": [
              "<Figure size 720x720 with 1 Axes>"
            ]
          },
          "metadata": {
            "tags": []
          }
        }
      ]
    },
    {
      "cell_type": "markdown",
      "metadata": {
        "id": "3BxzG1oiSbKJ",
        "colab_type": "text"
      },
      "source": [
        "GradientBoostingClassifier Model"
      ]
    },
    {
      "cell_type": "code",
      "metadata": {
        "id": "W0EktukyGtAk",
        "colab_type": "code",
        "outputId": "cf8ebf45-4dda-47f2-bda4-a356951217ac",
        "colab": {
          "base_uri": "https://localhost:8080/",
          "height": 52
        }
      },
      "source": [
        "from sklearn.ensemble import GradientBoostingClassifier\n",
        "mod4 = GradientBoostingClassifier( n_estimators=100,  learning_rate=0.12, subsample=0.8)\n",
        "mod4.fit(x_train,y_train)\n",
        "train_accuracy4=mod4.score(x_train,y_train)\n",
        "print('train accuracy\\t:',train_accuracy4)\n",
        "test_accuracy4=mod4.score(x_test,y_test)\n",
        "print('test accurracy\\t:',test_accuracy4)"
      ],
      "execution_count": 0,
      "outputs": [
        {
          "output_type": "stream",
          "text": [
            "train accuracy\t: 1.0\n",
            "test accurracy\t: 1.0\n"
          ],
          "name": "stdout"
        }
      ]
    },
    {
      "cell_type": "markdown",
      "metadata": {
        "id": "7KLxoT89RAJG",
        "colab_type": "text"
      },
      "source": [
        "Confusion Matrix And Classification Report"
      ]
    },
    {
      "cell_type": "code",
      "metadata": {
        "id": "Zm1mqsyw3rGi",
        "colab_type": "code",
        "outputId": "deb28741-31a1-44cd-b468-b645287274f6",
        "colab": {
          "base_uri": "https://localhost:8080/",
          "height": 337
        }
      },
      "source": [
        "y_pred4=mod4.predict(x_test)\n",
        "from sklearn.metrics import confusion_matrix\n",
        "cm4=confusion_matrix(y_test,y_pred4)\n",
        "plt.figure(figsize=(5,5))\n",
        "sns.heatmap(cm4,annot=True)"
      ],
      "execution_count": 0,
      "outputs": [
        {
          "output_type": "execute_result",
          "data": {
            "text/plain": [
              "<matplotlib.axes._subplots.AxesSubplot at 0x7fb286fc0978>"
            ]
          },
          "metadata": {
            "tags": []
          },
          "execution_count": 66
        },
        {
          "output_type": "display_data",
          "data": {
            "image/png": "[encoded data removed]",
            "text/plain": [
              "<Figure size 360x360 with 2 Axes>"
            ]
          },
          "metadata": {
            "tags": []
          }
        }
      ]
    },
    {
      "cell_type": "code",
      "metadata": {
        "id": "RK3JJpVyH6Ns",
        "colab_type": "code",
        "outputId": "10f60a0f-6e48-4dae-f326-4e74532017e1",
        "colab": {
          "base_uri": "https://localhost:8080/",
          "height": 173
        }
      },
      "source": [
        "from sklearn.metrics import classification_report\n",
        "target=['edible','poisonous']\n",
        "print(classification_report(y_test,y_pred4,target_names=target))"
      ],
      "execution_count": 0,
      "outputs": [
        {
          "output_type": "stream",
          "text": [
            "              precision    recall  f1-score   support\n",
            "\n",
            "      edible       1.00      1.00      1.00       852\n",
            "   poisonous       1.00      1.00      1.00       773\n",
            "\n",
            "    accuracy                           1.00      1625\n",
            "   macro avg       1.00      1.00      1.00      1625\n",
            "weighted avg       1.00      1.00      1.00      1625\n",
            "\n"
          ],
          "name": "stdout"
        }
      ]
    },
    {
      "cell_type": "markdown",
      "metadata": {
        "id": "beK7fLUtlfwW",
        "colab_type": "text"
      },
      "source": [
        "Receiver Operating Characteristic"
      ]
    },
    {
      "cell_type": "code",
      "metadata": {
        "id": "tEMjPo9UmLoC",
        "colab_type": "code",
        "outputId": "2241c98b-bf60-416c-f3b5-8546b7954fcb",
        "colab": {
          "base_uri": "https://localhost:8080/",
          "height": 35
        }
      },
      "source": [
        "from sklearn.metrics import roc_curve, auc\n",
        "false_positive_rate4, true_positive_rate4, thresholds4 = roc_curve(y_test, y_pred4)\n",
        "roc_auc4 = auc(false_positive_rate4, true_positive_rate4)\n",
        "roc_auc4"
      ],
      "execution_count": 0,
      "outputs": [
        {
          "output_type": "execute_result",
          "data": {
            "text/plain": [
              "1.0"
            ]
          },
          "metadata": {
            "tags": []
          },
          "execution_count": 68
        }
      ]
    },
    {
      "cell_type": "code",
      "metadata": {
        "id": "5rZHglIkmLs8",
        "colab_type": "code",
        "outputId": "9b7e99ef-5abf-468c-ad1d-02ca23016f02",
        "colab": {
          "base_uri": "https://localhost:8080/",
          "height": 639
        }
      },
      "source": [
        "plt.figure(figsize=(10,10))\n",
        "plt.title('Receiver Operating Characteristic')\n",
        "plt.plot(false_positive_rate4,true_positive_rate4, color='red',label = 'AUC = %0.2f' % roc_auc4)\n",
        "plt.legend(loc = 'lower right')\n",
        "plt.plot([0, 1], [0, 1],linestyle='--')\n",
        "plt.axis('tight')\n",
        "plt.ylabel('True Positive Rate')\n",
        "plt.xlabel('False Positive Rate')"
      ],
      "execution_count": 0,
      "outputs": [
        {
          "output_type": "execute_result",
          "data": {
            "text/plain": [
              "Text(0.5, 0, 'False Positive Rate')"
            ]
          },
          "metadata": {
            "tags": []
          },
          "execution_count": 69
        },
        {
          "output_type": "display_data",
          "data": {
            "image/png": "[encoded data removed]",
            "text/plain": [
              "<Figure size 720x720 with 1 Axes>"
            ]
          },
          "metadata": {
            "tags": []
          }
        }
      ]
    },
    {
      "cell_type": "markdown",
      "metadata": {
        "id": "5LC0UWXHSkG9",
        "colab_type": "text"
      },
      "source": [
        "KNeighborsClassifier Model"
      ]
    },
    {
      "cell_type": "code",
      "metadata": {
        "id": "hHOBqz8E4jnU",
        "colab_type": "code",
        "outputId": "abc68dcf-b994-4978-a024-47c8ef753c29",
        "colab": {
          "base_uri": "https://localhost:8080/",
          "height": 52
        }
      },
      "source": [
        "from sklearn.neighbors import KNeighborsClassifier\n",
        "mod5=KNeighborsClassifier(n_neighbors=5,metric='minkowski',p=2)\n",
        "mod5.fit(x_train,y_train)\n",
        "train_accuracy5=mod5.score(x_train,y_train)\n",
        "print('train accuracy\\t:',train_accuracy5)\n",
        "test_accuracy5=mod5.score(x_test,y_test)\n",
        "print('test accurracy\\t:',test_accuracy5)"
      ],
      "execution_count": 0,
      "outputs": [
        {
          "output_type": "stream",
          "text": [
            "train accuracy\t: 1.0\n",
            "test accurracy\t: 1.0\n"
          ],
          "name": "stdout"
        }
      ]
    },
    {
      "cell_type": "markdown",
      "metadata": {
        "id": "ADwSwtNQRNNc",
        "colab_type": "text"
      },
      "source": [
        "Confusion Matrix And Classification Report"
      ]
    },
    {
      "cell_type": "code",
      "metadata": {
        "id": "kjoO6Qjh4rlb",
        "colab_type": "code",
        "outputId": "ae5358d4-87b3-4b51-df2a-a663111a5d98",
        "colab": {
          "base_uri": "https://localhost:8080/",
          "height": 337
        }
      },
      "source": [
        "y_pred5=mod5.predict(x_test)\n",
        "from sklearn.metrics import confusion_matrix\n",
        "cm5=confusion_matrix(y_test,y_pred5)\n",
        "plt.figure(figsize=(5,5))\n",
        "sns.heatmap(cm5,annot=True)"
      ],
      "execution_count": 0,
      "outputs": [
        {
          "output_type": "execute_result",
          "data": {
            "text/plain": [
              "<matplotlib.axes._subplots.AxesSubplot at 0x7fb287708908>"
            ]
          },
          "metadata": {
            "tags": []
          },
          "execution_count": 71
        },
        {
          "output_type": "display_data",
          "data": {
            "image/png": "[encoded data removed]",
            "text/plain": [
              "<Figure size 360x360 with 2 Axes>"
            ]
          },
          "metadata": {
            "tags": []
          }
        }
      ]
    },
    {
      "cell_type": "code",
      "metadata": {
        "id": "Fa9NfFLT4ujH",
        "colab_type": "code",
        "outputId": "6f666502-8adb-4d7b-f6fe-8b94ef1042f0",
        "colab": {
          "base_uri": "https://localhost:8080/",
          "height": 173
        }
      },
      "source": [
        "from sklearn.metrics import classification_report\n",
        "target=['edible','poisonous']\n",
        "print(classification_report(y_test,y_pred5,target_names=target))"
      ],
      "execution_count": 0,
      "outputs": [
        {
          "output_type": "stream",
          "text": [
            "              precision    recall  f1-score   support\n",
            "\n",
            "      edible       1.00      1.00      1.00       852\n",
            "   poisonous       1.00      1.00      1.00       773\n",
            "\n",
            "    accuracy                           1.00      1625\n",
            "   macro avg       1.00      1.00      1.00      1625\n",
            "weighted avg       1.00      1.00      1.00      1625\n",
            "\n"
          ],
          "name": "stdout"
        }
      ]
    },
    {
      "cell_type": "markdown",
      "metadata": {
        "id": "o-7NHnr7liTM",
        "colab_type": "text"
      },
      "source": [
        "Receiver Operating Characteristic"
      ]
    },
    {
      "cell_type": "code",
      "metadata": {
        "id": "2Ng76xN1mONS",
        "colab_type": "code",
        "outputId": "d692e436-e651-4f56-bdbb-8785258ffe13",
        "colab": {
          "base_uri": "https://localhost:8080/",
          "height": 35
        }
      },
      "source": [
        "from sklearn.metrics import roc_curve, auc\n",
        "false_positive_rate5, true_positive_rate5, thresholds5 = roc_curve(y_test, y_pred5)\n",
        "roc_auc5 = auc(false_positive_rate5, true_positive_rate5)\n",
        "roc_auc5"
      ],
      "execution_count": 0,
      "outputs": [
        {
          "output_type": "execute_result",
          "data": {
            "text/plain": [
              "1.0"
            ]
          },
          "metadata": {
            "tags": []
          },
          "execution_count": 73
        }
      ]
    },
    {
      "cell_type": "code",
      "metadata": {
        "id": "Sbr_WDBSmhXK",
        "colab_type": "code",
        "outputId": "ba9cd925-d0b9-4b91-a25f-aefbb38678ca",
        "colab": {
          "base_uri": "https://localhost:8080/",
          "height": 639
        }
      },
      "source": [
        "plt.figure(figsize=(10,10))\n",
        "plt.title('Receiver Operating Characteristic')\n",
        "plt.plot(false_positive_rate5,true_positive_rate5, color='red',label = 'AUC = %0.2f' % roc_auc5)\n",
        "plt.legend(loc = 'lower right')\n",
        "plt.plot([0, 1], [0, 1],linestyle='--')\n",
        "plt.axis('tight')\n",
        "plt.ylabel('True Positive Rate')\n",
        "plt.xlabel('False Positive Rate')"
      ],
      "execution_count": 0,
      "outputs": [
        {
          "output_type": "execute_result",
          "data": {
            "text/plain": [
              "Text(0.5, 0, 'False Positive Rate')"
            ]
          },
          "metadata": {
            "tags": []
          },
          "execution_count": 74
        },
        {
          "output_type": "display_data",
          "data": {
            "image/png": "[encoded data removed]",
            "text/plain": [
              "<Figure size 720x720 with 1 Axes>"
            ]
          },
          "metadata": {
            "tags": []
          }
        }
      ]
    },
    {
      "cell_type": "markdown",
      "metadata": {
        "id": "9OnB5ym_Sp9_",
        "colab_type": "text"
      },
      "source": [
        "SupportVectorMachine Model"
      ]
    },
    {
      "cell_type": "code",
      "metadata": {
        "id": "U-N11M5Q5IA8",
        "colab_type": "code",
        "outputId": "418fc6b4-0335-436b-f0fa-121506b74d8f",
        "colab": {
          "base_uri": "https://localhost:8080/",
          "height": 52
        }
      },
      "source": [
        "from sklearn.svm import SVC\n",
        "mod6=SVC(kernel='rbf')\n",
        "mod6.fit(x_train,y_train)\n",
        "train_accuracy6=mod6.score(x_train,y_train)\n",
        "print('train accuracy\\t:',train_accuracy6)\n",
        "test_accuracy6=mod6.score(x_test,y_test)\n",
        "print('test accurracy\\t:',test_accuracy6)"
      ],
      "execution_count": 0,
      "outputs": [
        {
          "output_type": "stream",
          "text": [
            "train accuracy\t: 1.0\n",
            "test accurracy\t: 1.0\n"
          ],
          "name": "stdout"
        }
      ]
    },
    {
      "cell_type": "markdown",
      "metadata": {
        "id": "LBTrBayTRRnt",
        "colab_type": "text"
      },
      "source": [
        "Confusion Matrix And Classification Report"
      ]
    },
    {
      "cell_type": "code",
      "metadata": {
        "id": "U_MVzia65LMf",
        "colab_type": "code",
        "outputId": "0a96ab55-4aaa-4c63-92b5-472c78752b38",
        "colab": {
          "base_uri": "https://localhost:8080/",
          "height": 337
        }
      },
      "source": [
        "y_pred6=mod6.predict(x_test)\n",
        "from sklearn.metrics import confusion_matrix\n",
        "cm6=confusion_matrix(y_test,y_pred6)\n",
        "plt.figure(figsize=(5,5))\n",
        "sns.heatmap(cm6,annot=True)"
      ],
      "execution_count": 0,
      "outputs": [
        {
          "output_type": "execute_result",
          "data": {
            "text/plain": [
              "<matplotlib.axes._subplots.AxesSubplot at 0x7fb287504240>"
            ]
          },
          "metadata": {
            "tags": []
          },
          "execution_count": 76
        },
        {
          "output_type": "display_data",
          "data": {
            "image/png": "[encoded data removed]",
            "text/plain": [
              "<Figure size 360x360 with 2 Axes>"
            ]
          },
          "metadata": {
            "tags": []
          }
        }
      ]
    },
    {
      "cell_type": "code",
      "metadata": {
        "id": "yO-H2McU5Q8K",
        "colab_type": "code",
        "outputId": "1619770f-77fc-4dce-8b27-8379005741a9",
        "colab": {
          "base_uri": "https://localhost:8080/",
          "height": 173
        }
      },
      "source": [
        "from sklearn.metrics import classification_report\n",
        "target=['edible','poisonous']\n",
        "print(classification_report(y_test,y_pred6,target_names=target))"
      ],
      "execution_count": 0,
      "outputs": [
        {
          "output_type": "stream",
          "text": [
            "              precision    recall  f1-score   support\n",
            "\n",
            "      edible       1.00      1.00      1.00       852\n",
            "   poisonous       1.00      1.00      1.00       773\n",
            "\n",
            "    accuracy                           1.00      1625\n",
            "   macro avg       1.00      1.00      1.00      1625\n",
            "weighted avg       1.00      1.00      1.00      1625\n",
            "\n"
          ],
          "name": "stdout"
        }
      ]
    },
    {
      "cell_type": "markdown",
      "metadata": {
        "id": "PMOUriPAllLI",
        "colab_type": "text"
      },
      "source": [
        "Receiver Operating Characteristic"
      ]
    },
    {
      "cell_type": "code",
      "metadata": {
        "id": "60hJdEu8mQqc",
        "colab_type": "code",
        "outputId": "0af78e72-54b5-4160-8077-a5470494af32",
        "colab": {
          "base_uri": "https://localhost:8080/",
          "height": 35
        }
      },
      "source": [
        "from sklearn.metrics import roc_curve, auc\n",
        "false_positive_rate6, true_positive_rate6, thresholds6 = roc_curve(y_test, y_pred6)\n",
        "roc_auc6 = auc(false_positive_rate6, true_positive_rate6)\n",
        "roc_auc6"
      ],
      "execution_count": 0,
      "outputs": [
        {
          "output_type": "execute_result",
          "data": {
            "text/plain": [
              "1.0"
            ]
          },
          "metadata": {
            "tags": []
          },
          "execution_count": 78
        }
      ]
    },
    {
      "cell_type": "code",
      "metadata": {
        "id": "1860FM1kmjgE",
        "colab_type": "code",
        "outputId": "6c9eeeb3-7ad4-4b7f-c9c1-df14e85bb487",
        "colab": {
          "base_uri": "https://localhost:8080/",
          "height": 639
        }
      },
      "source": [
        "plt.figure(figsize=(10,10))\n",
        "plt.title('Receiver Operating Characteristic')\n",
        "plt.plot(false_positive_rate6,true_positive_rate6, color='red',label = 'AUC = %0.2f' % roc_auc6)\n",
        "plt.legend(loc = 'lower right')\n",
        "plt.plot([0, 1], [0, 1],linestyle='--')\n",
        "plt.axis('tight')\n",
        "plt.ylabel('True Positive Rate')\n",
        "plt.xlabel('False Positive Rate')"
      ],
      "execution_count": 0,
      "outputs": [
        {
          "output_type": "execute_result",
          "data": {
            "text/plain": [
              "Text(0.5, 0, 'False Positive Rate')"
            ]
          },
          "metadata": {
            "tags": []
          },
          "execution_count": 79
        },
        {
          "output_type": "display_data",
          "data": {
            "image/png": "[encoded data removed]",
            "text/plain": [
              "<Figure size 720x720 with 1 Axes>"
            ]
          },
          "metadata": {
            "tags": []
          }
        }
      ]
    },
    {
      "cell_type": "markdown",
      "metadata": {
        "id": "uhmKJKZnSzVo",
        "colab_type": "text"
      },
      "source": [
        "Naive Bayes Model"
      ]
    },
    {
      "cell_type": "code",
      "metadata": {
        "id": "7p4fBIm35qtc",
        "colab_type": "code",
        "outputId": "7a40fd8d-66d2-4d8f-a13d-6f50905b555f",
        "colab": {
          "base_uri": "https://localhost:8080/",
          "height": 52
        }
      },
      "source": [
        "from sklearn.naive_bayes import GaussianNB\n",
        "mod7=GaussianNB()\n",
        "mod7.fit(x_train,y_train)\n",
        "train_accuracy7=mod7.score(x_train,y_train)\n",
        "print('train accuracy\\t:',train_accuracy7)\n",
        "test_accuracy7=mod7.score(x_test,y_test)\n",
        "print('test accurracy\\t:',test_accuracy7)"
      ],
      "execution_count": 0,
      "outputs": [
        {
          "output_type": "stream",
          "text": [
            "train accuracy\t: 0.9222957378058163\n",
            "test accurracy\t: 0.9156923076923077\n"
          ],
          "name": "stdout"
        }
      ]
    },
    {
      "cell_type": "markdown",
      "metadata": {
        "id": "KctvMWqnRUoc",
        "colab_type": "text"
      },
      "source": [
        "Confusion Matrix And Classification Report"
      ]
    },
    {
      "cell_type": "code",
      "metadata": {
        "id": "InjlUO3q56pF",
        "colab_type": "code",
        "outputId": "55ef6f1c-4f4c-4438-b740-e0ee9f82bc18",
        "colab": {
          "base_uri": "https://localhost:8080/",
          "height": 337
        }
      },
      "source": [
        "y_pred7=mod7.predict(x_test)\n",
        "from sklearn.metrics import confusion_matrix\n",
        "cm7=confusion_matrix(y_test,y_pred7)\n",
        "plt.figure(figsize=(5,5))\n",
        "sns.heatmap(cm7,annot=True)"
      ],
      "execution_count": 0,
      "outputs": [
        {
          "output_type": "execute_result",
          "data": {
            "text/plain": [
              "<matplotlib.axes._subplots.AxesSubplot at 0x7fb286cfbcf8>"
            ]
          },
          "metadata": {
            "tags": []
          },
          "execution_count": 81
        },
        {
          "output_type": "display_data",
          "data": {
            "image/png": "[encoded data removed]",
            "text/plain": [
              "<Figure size 360x360 with 2 Axes>"
            ]
          },
          "metadata": {
            "tags": []
          }
        }
      ]
    },
    {
      "cell_type": "code",
      "metadata": {
        "id": "ovlnLqsz59O-",
        "colab_type": "code",
        "outputId": "43defeee-3cc5-481a-c767-cd046d5b6f64",
        "colab": {
          "base_uri": "https://localhost:8080/",
          "height": 173
        }
      },
      "source": [
        "from sklearn.metrics import classification_report\n",
        "target=['edible','poisonous']\n",
        "print(classification_report(y_test,y_pred7,target_names=target))"
      ],
      "execution_count": 0,
      "outputs": [
        {
          "output_type": "stream",
          "text": [
            "              precision    recall  f1-score   support\n",
            "\n",
            "      edible       0.93      0.91      0.92       852\n",
            "   poisonous       0.90      0.92      0.91       773\n",
            "\n",
            "    accuracy                           0.92      1625\n",
            "   macro avg       0.92      0.92      0.92      1625\n",
            "weighted avg       0.92      0.92      0.92      1625\n",
            "\n"
          ],
          "name": "stdout"
        }
      ]
    },
    {
      "cell_type": "markdown",
      "metadata": {
        "id": "p7iRBdFxlnvr",
        "colab_type": "text"
      },
      "source": [
        "Receiver Operating Characteristic"
      ]
    },
    {
      "cell_type": "code",
      "metadata": {
        "id": "weZyFOhRmUUW",
        "colab_type": "code",
        "outputId": "c3a5cd88-0076-4ebd-bf0f-21e8503d6331",
        "colab": {
          "base_uri": "https://localhost:8080/",
          "height": 35
        }
      },
      "source": [
        "from sklearn.metrics import roc_curve, auc\n",
        "false_positive_rate7, true_positive_rate7, thresholds7 = roc_curve(y_test, y_pred7)\n",
        "roc_auc7 = auc(false_positive_rate7, true_positive_rate7)\n",
        "roc_auc7"
      ],
      "execution_count": 0,
      "outputs": [
        {
          "output_type": "execute_result",
          "data": {
            "text/plain": [
              "0.9161223268893219"
            ]
          },
          "metadata": {
            "tags": []
          },
          "execution_count": 83
        }
      ]
    },
    {
      "cell_type": "code",
      "metadata": {
        "id": "X6f1wByUmVoM",
        "colab_type": "code",
        "outputId": "54d29d1a-d891-48c9-f494-64aad064ec65",
        "colab": {
          "base_uri": "https://localhost:8080/",
          "height": 639
        }
      },
      "source": [
        "plt.figure(figsize=(10,10))\n",
        "plt.title('Receiver Operating Characteristic')\n",
        "plt.plot(false_positive_rate7,true_positive_rate7, color='red',label = 'AUC = %0.2f' % roc_auc7)\n",
        "plt.legend(loc = 'lower right')\n",
        "plt.plot([0, 1], [0, 1],linestyle='--')\n",
        "plt.axis('tight')\n",
        "plt.ylabel('True Positive Rate')\n",
        "plt.xlabel('False Positive Rate')"
      ],
      "execution_count": 0,
      "outputs": [
        {
          "output_type": "execute_result",
          "data": {
            "text/plain": [
              "Text(0.5, 0, 'False Positive Rate')"
            ]
          },
          "metadata": {
            "tags": []
          },
          "execution_count": 84
        },
        {
          "output_type": "display_data",
          "data": {
            "image/png": "[encoded data removed]",
            "text/plain": [
              "<Figure size 720x720 with 1 Axes>"
            ]
          },
          "metadata": {
            "tags": []
          }
        }
      ]
    },
    {
      "cell_type": "markdown",
      "metadata": {
        "id": "s05oivNjRZ7J",
        "colab_type": "text"
      },
      "source": [
        "Artificial Neural Networks"
      ]
    },
    {
      "cell_type": "code",
      "metadata": {
        "id": "E-zT9X9c8nhc",
        "colab_type": "code",
        "outputId": "c556eae2-4714-45c5-eb70-b2ac3534f0d1",
        "colab": {
          "base_uri": "https://localhost:8080/",
          "height": 1000
        }
      },
      "source": [
        "from keras.models import Sequential\n",
        "from keras.layers import Dense\n",
        "mod8=Sequential()\n",
        "mod8.add(Dense(64,activation='relu',input_dim=22))\n",
        "mod8.add(Dense(1,activation='sigmoid'))\n",
        "mod8.compile(optimizer='adam',loss='binary_crossentropy',metrics=['accuracy'])\n",
        "mod8.fit(x_train,y_train,batch_size=10,epochs=100)"
      ],
      "execution_count": 0,
      "outputs": [
        {
          "output_type": "stream",
          "text": [
            "Epoch 1/100\n",
            "6499/6499 [==============================] - 1s 147us/step - loss: 0.1874 - acc: 0.9309\n",
            "Epoch 2/100\n",
            "6499/6499 [==============================] - 1s 115us/step - loss: 0.0396 - acc: 0.9915\n",
            "Epoch 3/100\n",
            "6499/6499 [==============================] - 1s 115us/step - loss: 0.0149 - acc: 0.9991\n",
            "Epoch 4/100\n",
            "6499/6499 [==============================] - 1s 113us/step - loss: 0.0074 - acc: 0.9997\n",
            "Epoch 5/100\n",
            "6499/6499 [==============================] - 1s 116us/step - loss: 0.0041 - acc: 1.0000\n",
            "Epoch 6/100\n",
            "6499/6499 [==============================] - 1s 117us/step - loss: 0.0026 - acc: 1.0000\n",
            "Epoch 7/100\n",
            "6499/6499 [==============================] - 1s 120us/step - loss: 0.0016 - acc: 1.0000\n",
            "Epoch 8/100\n",
            "6499/6499 [==============================] - 1s 121us/step - loss: 0.0011 - acc: 1.0000\n",
            "Epoch 9/100\n",
            "6499/6499 [==============================] - 1s 116us/step - loss: 8.1930e-04 - acc: 1.0000\n",
            "Epoch 10/100\n",
            "6499/6499 [==============================] - 1s 119us/step - loss: 5.8075e-04 - acc: 1.0000\n",
            "Epoch 11/100\n",
            "6499/6499 [==============================] - 1s 116us/step - loss: 3.8825e-04 - acc: 1.0000\n",
            "Epoch 12/100\n",
            "6499/6499 [==============================] - 1s 115us/step - loss: 3.4303e-04 - acc: 1.0000\n",
            "Epoch 13/100\n",
            "6499/6499 [==============================] - 1s 116us/step - loss: 2.0260e-04 - acc: 1.0000\n",
            "Epoch 14/100\n",
            "6499/6499 [==============================] - 1s 118us/step - loss: 1.4727e-04 - acc: 1.0000\n",
            "Epoch 15/100\n",
            "6499/6499 [==============================] - 1s 116us/step - loss: 9.2570e-05 - acc: 1.0000\n",
            "Epoch 16/100\n",
            "6499/6499 [==============================] - 1s 118us/step - loss: 8.0317e-05 - acc: 1.0000\n",
            "Epoch 17/100\n",
            "6499/6499 [==============================] - 1s 117us/step - loss: 8.0804e-05 - acc: 1.0000\n",
            "Epoch 18/100\n",
            "6499/6499 [==============================] - 1s 117us/step - loss: 7.9265e-05 - acc: 1.0000\n",
            "Epoch 19/100\n",
            "6499/6499 [==============================] - 1s 117us/step - loss: 1.1244e-04 - acc: 1.0000\n",
            "Epoch 20/100\n",
            "6499/6499 [==============================] - 1s 115us/step - loss: 2.3624e-05 - acc: 1.0000\n",
            "Epoch 21/100\n",
            "6499/6499 [==============================] - 1s 115us/step - loss: 1.9833e-05 - acc: 1.0000\n",
            "Epoch 22/100\n",
            "6499/6499 [==============================] - 1s 124us/step - loss: 1.6015e-05 - acc: 1.0000\n",
            "Epoch 23/100\n",
            "6499/6499 [==============================] - 1s 116us/step - loss: 1.4104e-05 - acc: 1.0000\n",
            "Epoch 24/100\n",
            "6499/6499 [==============================] - 1s 120us/step - loss: 8.6392e-06 - acc: 1.0000\n",
            "Epoch 25/100\n",
            "6499/6499 [==============================] - 1s 117us/step - loss: 9.4140e-06 - acc: 1.0000\n",
            "Epoch 26/100\n",
            "6499/6499 [==============================] - 1s 115us/step - loss: 8.7620e-06 - acc: 1.0000\n",
            "Epoch 27/100\n",
            "6499/6499 [==============================] - 1s 114us/step - loss: 7.1774e-06 - acc: 1.0000\n",
            "Epoch 28/100\n",
            "6499/6499 [==============================] - 1s 117us/step - loss: 4.1738e-06 - acc: 1.0000\n",
            "Epoch 29/100\n",
            "6499/6499 [==============================] - 1s 113us/step - loss: 2.3397e-05 - acc: 1.0000\n",
            "Epoch 30/100\n",
            "6499/6499 [==============================] - 1s 118us/step - loss: 2.1308e-06 - acc: 1.0000\n",
            "Epoch 31/100\n",
            "6499/6499 [==============================] - 1s 118us/step - loss: 2.0888e-06 - acc: 1.0000\n",
            "Epoch 32/100\n",
            "6499/6499 [==============================] - 1s 114us/step - loss: 1.8451e-06 - acc: 1.0000\n",
            "Epoch 33/100\n",
            "6499/6499 [==============================] - 1s 119us/step - loss: 1.6776e-06 - acc: 1.0000\n",
            "Epoch 34/100\n",
            "6499/6499 [==============================] - 1s 119us/step - loss: 1.3453e-06 - acc: 1.0000\n",
            "Epoch 35/100\n",
            "6499/6499 [==============================] - 1s 115us/step - loss: 1.3014e-06 - acc: 1.0000\n",
            "Epoch 36/100\n",
            "6499/6499 [==============================] - 1s 121us/step - loss: 1.2281e-06 - acc: 1.0000\n",
            "Epoch 37/100\n",
            "6499/6499 [==============================] - 1s 119us/step - loss: 9.5872e-07 - acc: 1.0000\n",
            "Epoch 38/100\n",
            "6499/6499 [==============================] - 1s 114us/step - loss: 7.2771e-07 - acc: 1.0000\n",
            "Epoch 39/100\n",
            "6499/6499 [==============================] - 1s 119us/step - loss: 4.8199e-07 - acc: 1.0000\n",
            "Epoch 40/100\n",
            "6499/6499 [==============================] - 1s 116us/step - loss: 5.7797e-07 - acc: 1.0000\n",
            "Epoch 41/100\n",
            "6499/6499 [==============================] - 1s 119us/step - loss: 4.5301e-07 - acc: 1.0000\n",
            "Epoch 42/100\n",
            "6499/6499 [==============================] - 1s 117us/step - loss: 6.2655e-07 - acc: 1.0000\n",
            "Epoch 43/100\n",
            "6499/6499 [==============================] - 1s 115us/step - loss: 2.6445e-07 - acc: 1.0000\n",
            "Epoch 44/100\n",
            "6499/6499 [==============================] - 1s 119us/step - loss: 2.3557e-07 - acc: 1.0000\n",
            "Epoch 45/100\n",
            "6499/6499 [==============================] - 1s 117us/step - loss: 1.9456e-07 - acc: 1.0000\n",
            "Epoch 46/100\n",
            "6499/6499 [==============================] - 1s 115us/step - loss: 1.8367e-07 - acc: 1.0000\n",
            "Epoch 47/100\n",
            "6499/6499 [==============================] - 1s 115us/step - loss: 1.6844e-07 - acc: 1.0000\n",
            "Epoch 48/100\n",
            "6499/6499 [==============================] - 1s 118us/step - loss: 1.4804e-07 - acc: 1.0000\n",
            "Epoch 49/100\n",
            "6499/6499 [==============================] - 1s 115us/step - loss: 1.5518e-07 - acc: 1.0000\n",
            "Epoch 50/100\n",
            "6499/6499 [==============================] - 1s 119us/step - loss: 1.3858e-07 - acc: 1.0000\n",
            "Epoch 51/100\n",
            "6499/6499 [==============================] - 1s 126us/step - loss: 1.2746e-07 - acc: 1.0000\n",
            "Epoch 52/100\n",
            "6499/6499 [==============================] - 1s 131us/step - loss: 1.2251e-07 - acc: 1.0000\n",
            "Epoch 53/100\n",
            "6499/6499 [==============================] - 1s 136us/step - loss: 1.2380e-07 - acc: 1.0000\n",
            "Epoch 54/100\n",
            "6499/6499 [==============================] - 1s 138us/step - loss: 1.2024e-07 - acc: 1.0000\n",
            "Epoch 55/100\n",
            "6499/6499 [==============================] - 1s 146us/step - loss: 1.1748e-07 - acc: 1.0000\n",
            "Epoch 56/100\n",
            "6499/6499 [==============================] - 1s 144us/step - loss: 1.1476e-07 - acc: 1.0000\n",
            "Epoch 57/100\n",
            "6499/6499 [==============================] - 1s 141us/step - loss: 1.1476e-07 - acc: 1.0000\n",
            "Epoch 58/100\n",
            "6499/6499 [==============================] - 1s 132us/step - loss: 1.1457e-07 - acc: 1.0000\n",
            "Epoch 59/100\n",
            "6499/6499 [==============================] - 1s 128us/step - loss: 1.1263e-07 - acc: 1.0000\n",
            "Epoch 60/100\n",
            "6499/6499 [==============================] - 1s 129us/step - loss: 1.1230e-07 - acc: 1.0000\n",
            "Epoch 61/100\n",
            "6499/6499 [==============================] - 1s 126us/step - loss: 1.1151e-07 - acc: 1.0000\n",
            "Epoch 62/100\n",
            "6499/6499 [==============================] - 1s 134us/step - loss: 1.1139e-07 - acc: 1.0000\n",
            "Epoch 63/100\n",
            "6499/6499 [==============================] - 1s 129us/step - loss: 1.1119e-07 - acc: 1.0000\n",
            "Epoch 64/100\n",
            "6499/6499 [==============================] - 1s 129us/step - loss: 1.1118e-07 - acc: 1.0000\n",
            "Epoch 65/100\n",
            "6499/6499 [==============================] - 1s 132us/step - loss: 1.1067e-07 - acc: 1.0000\n",
            "Epoch 66/100\n",
            "6499/6499 [==============================] - 1s 119us/step - loss: 1.1055e-07 - acc: 1.0000\n",
            "Epoch 67/100\n",
            "6499/6499 [==============================] - 1s 121us/step - loss: 1.1035e-07 - acc: 1.0000\n",
            "Epoch 68/100\n",
            "6499/6499 [==============================] - 1s 115us/step - loss: 1.1027e-07 - acc: 1.0000\n",
            "Epoch 69/100\n",
            "6499/6499 [==============================] - 1s 115us/step - loss: 1.1005e-07 - acc: 1.0000\n",
            "Epoch 70/100\n",
            "6499/6499 [==============================] - 1s 115us/step - loss: 1.1014e-07 - acc: 1.0000\n",
            "Epoch 71/100\n",
            "6499/6499 [==============================] - 1s 115us/step - loss: 1.1001e-07 - acc: 1.0000\n",
            "Epoch 72/100\n",
            "6499/6499 [==============================] - 1s 118us/step - loss: 1.1000e-07 - acc: 1.0000\n",
            "Epoch 73/100\n",
            "6499/6499 [==============================] - 1s 117us/step - loss: 1.0992e-07 - acc: 1.0000\n",
            "Epoch 74/100\n",
            "6499/6499 [==============================] - 1s 117us/step - loss: 1.0980e-07 - acc: 1.0000\n",
            "Epoch 75/100\n",
            "6499/6499 [==============================] - 1s 115us/step - loss: 1.0993e-07 - acc: 1.0000\n",
            "Epoch 76/100\n",
            "6499/6499 [==============================] - 1s 117us/step - loss: 1.0980e-07 - acc: 1.0000\n",
            "Epoch 77/100\n",
            "6499/6499 [==============================] - 1s 119us/step - loss: 1.0974e-07 - acc: 1.0000\n",
            "Epoch 78/100\n",
            "6499/6499 [==============================] - 1s 114us/step - loss: 1.0972e-07 - acc: 1.0000\n",
            "Epoch 79/100\n",
            "6499/6499 [==============================] - 1s 115us/step - loss: 1.0970e-07 - acc: 1.0000\n",
            "Epoch 80/100\n",
            "6499/6499 [==============================] - 1s 118us/step - loss: 1.0962e-07 - acc: 1.0000\n",
            "Epoch 81/100\n",
            "6499/6499 [==============================] - 1s 114us/step - loss: 1.0966e-07 - acc: 1.0000\n",
            "Epoch 82/100\n",
            "6499/6499 [==============================] - 1s 115us/step - loss: 1.0962e-07 - acc: 1.0000\n",
            "Epoch 83/100\n",
            "6499/6499 [==============================] - 1s 116us/step - loss: 1.0957e-07 - acc: 1.0000\n",
            "Epoch 84/100\n",
            "6499/6499 [==============================] - 1s 114us/step - loss: 1.0961e-07 - acc: 1.0000\n",
            "Epoch 85/100\n",
            "6499/6499 [==============================] - 1s 117us/step - loss: 1.0952e-07 - acc: 1.0000\n",
            "Epoch 86/100\n",
            "6499/6499 [==============================] - 1s 118us/step - loss: 1.0951e-07 - acc: 1.0000\n",
            "Epoch 87/100\n",
            "6499/6499 [==============================] - 1s 115us/step - loss: 1.0951e-07 - acc: 1.0000\n",
            "Epoch 88/100\n",
            "6499/6499 [==============================] - 1s 117us/step - loss: 1.0954e-07 - acc: 1.0000\n",
            "Epoch 89/100\n",
            "6499/6499 [==============================] - 1s 115us/step - loss: 1.0949e-07 - acc: 1.0000\n",
            "Epoch 90/100\n",
            "6499/6499 [==============================] - 1s 119us/step - loss: 1.0949e-07 - acc: 1.0000\n",
            "Epoch 91/100\n",
            "6499/6499 [==============================] - 1s 117us/step - loss: 1.0948e-07 - acc: 1.0000\n",
            "Epoch 92/100\n",
            "6499/6499 [==============================] - 1s 116us/step - loss: 1.0947e-07 - acc: 1.0000\n",
            "Epoch 93/100\n",
            "6499/6499 [==============================] - 1s 117us/step - loss: 1.0945e-07 - acc: 1.0000\n",
            "Epoch 94/100\n",
            "6499/6499 [==============================] - 1s 117us/step - loss: 1.0942e-07 - acc: 1.0000\n",
            "Epoch 95/100\n",
            "6499/6499 [==============================] - 1s 114us/step - loss: 1.0941e-07 - acc: 1.0000\n",
            "Epoch 96/100\n",
            "6499/6499 [==============================] - 1s 116us/step - loss: 1.0941e-07 - acc: 1.0000\n",
            "Epoch 97/100\n",
            "6499/6499 [==============================] - 1s 115us/step - loss: 1.0938e-07 - acc: 1.0000\n",
            "Epoch 98/100\n",
            "6499/6499 [==============================] - 1s 115us/step - loss: 1.0939e-07 - acc: 1.0000\n",
            "Epoch 99/100\n",
            "6499/6499 [==============================] - 1s 118us/step - loss: 1.0942e-07 - acc: 1.0000\n",
            "Epoch 100/100\n",
            "6499/6499 [==============================] - 1s 111us/step - loss: 1.0942e-07 - acc: 1.0000\n"
          ],
          "name": "stdout"
        },
        {
          "output_type": "execute_result",
          "data": {
            "text/plain": [
              "<keras.callbacks.History at 0x7fe260ae6940>"
            ]
          },
          "metadata": {
            "tags": []
          },
          "execution_count": 81
        }
      ]
    },
    {
      "cell_type": "code",
      "metadata": {
        "id": "66Yl8j9dBa98",
        "colab_type": "code",
        "outputId": "71f55fb5-dff7-49d0-fcd8-376d81aec909",
        "colab": {
          "base_uri": "https://localhost:8080/",
          "height": 1000
        }
      },
      "source": [
        "history = mod8.fit(x_test, y_test, validation_split=0.20, epochs=70, batch_size=10, verbose=1)\n",
        "\n",
        "# Plot training & validation accuracy values\n",
        "\n",
        "plt.plot(history.history['acc'])\n",
        "plt.plot(history.history['val_acc'])\n",
        "plt.title('Model accuracy')\n",
        "plt.ylabel('Accuracy')\n",
        "plt.xlabel('Epoch')\n",
        "plt.legend(['Train', 'Test'], loc='upper right')\n",
        "plt.show()\n",
        "# Plot training & validation loss values\n",
        "plt.plot(history.history['loss'])\n",
        "plt.plot(history.history['val_loss'])\n",
        "plt.title('Model loss')\n",
        "plt.ylabel('Loss')\n",
        "plt.xlabel('Epoch')\n",
        "plt.legend(['Train', 'Test'], loc='upper right')\n",
        "plt.show()"
      ],
      "execution_count": 0,
      "outputs": [
        {
          "output_type": "stream",
          "text": [
            "Train on 1300 samples, validate on 325 samples\n",
            "Epoch 1/70\n",
            "1300/1300 [==============================] - 0s 150us/step - loss: 1.0912e-07 - acc: 1.0000 - val_loss: 1.0963e-07 - val_acc: 1.0000\n",
            "Epoch 2/70\n",
            "1300/1300 [==============================] - 0s 143us/step - loss: 1.0912e-07 - acc: 1.0000 - val_loss: 1.0963e-07 - val_acc: 1.0000\n",
            "Epoch 3/70\n",
            "1300/1300 [==============================] - 0s 153us/step - loss: 1.0912e-07 - acc: 1.0000 - val_loss: 1.0963e-07 - val_acc: 1.0000\n",
            "Epoch 4/70\n",
            "1300/1300 [==============================] - 0s 149us/step - loss: 1.0912e-07 - acc: 1.0000 - val_loss: 1.0963e-07 - val_acc: 1.0000\n",
            "Epoch 5/70\n",
            "1300/1300 [==============================] - 0s 159us/step - loss: 1.0912e-07 - acc: 1.0000 - val_loss: 1.0963e-07 - val_acc: 1.0000\n",
            "Epoch 6/70\n",
            "1300/1300 [==============================] - 0s 142us/step - loss: 1.0912e-07 - acc: 1.0000 - val_loss: 1.0963e-07 - val_acc: 1.0000\n",
            "Epoch 7/70\n",
            "1300/1300 [==============================] - 0s 147us/step - loss: 1.0912e-07 - acc: 1.0000 - val_loss: 1.0963e-07 - val_acc: 1.0000\n",
            "Epoch 8/70\n",
            "1300/1300 [==============================] - 0s 153us/step - loss: 1.0912e-07 - acc: 1.0000 - val_loss: 1.0963e-07 - val_acc: 1.0000\n",
            "Epoch 9/70\n",
            "1300/1300 [==============================] - 0s 147us/step - loss: 1.0912e-07 - acc: 1.0000 - val_loss: 1.0963e-07 - val_acc: 1.0000\n",
            "Epoch 10/70\n",
            "1300/1300 [==============================] - 0s 150us/step - loss: 1.0912e-07 - acc: 1.0000 - val_loss: 1.0963e-07 - val_acc: 1.0000\n",
            "Epoch 11/70\n",
            "1300/1300 [==============================] - 0s 150us/step - loss: 1.0912e-07 - acc: 1.0000 - val_loss: 1.0963e-07 - val_acc: 1.0000\n",
            "Epoch 12/70\n",
            "1300/1300 [==============================] - 0s 146us/step - loss: 1.0912e-07 - acc: 1.0000 - val_loss: 1.0963e-07 - val_acc: 1.0000\n",
            "Epoch 13/70\n",
            "1300/1300 [==============================] - 0s 155us/step - loss: 1.0912e-07 - acc: 1.0000 - val_loss: 1.0963e-07 - val_acc: 1.0000\n",
            "Epoch 14/70\n",
            "1300/1300 [==============================] - 0s 147us/step - loss: 1.0912e-07 - acc: 1.0000 - val_loss: 1.0963e-07 - val_acc: 1.0000\n",
            "Epoch 15/70\n",
            "1300/1300 [==============================] - 0s 149us/step - loss: 1.0912e-07 - acc: 1.0000 - val_loss: 1.0963e-07 - val_acc: 1.0000\n",
            "Epoch 16/70\n",
            "1300/1300 [==============================] - 0s 146us/step - loss: 1.0912e-07 - acc: 1.0000 - val_loss: 1.0963e-07 - val_acc: 1.0000\n",
            "Epoch 17/70\n",
            "1300/1300 [==============================] - 0s 146us/step - loss: 1.0912e-07 - acc: 1.0000 - val_loss: 1.0963e-07 - val_acc: 1.0000\n",
            "Epoch 18/70\n",
            "1300/1300 [==============================] - 0s 151us/step - loss: 1.0912e-07 - acc: 1.0000 - val_loss: 1.0963e-07 - val_acc: 1.0000\n",
            "Epoch 19/70\n",
            "1300/1300 [==============================] - 0s 152us/step - loss: 1.0912e-07 - acc: 1.0000 - val_loss: 1.0963e-07 - val_acc: 1.0000\n",
            "Epoch 20/70\n",
            "1300/1300 [==============================] - 0s 154us/step - loss: 1.0912e-07 - acc: 1.0000 - val_loss: 1.0963e-07 - val_acc: 1.0000\n",
            "Epoch 21/70\n",
            "1300/1300 [==============================] - 0s 151us/step - loss: 1.0912e-07 - acc: 1.0000 - val_loss: 1.0963e-07 - val_acc: 1.0000\n",
            "Epoch 22/70\n",
            "1300/1300 [==============================] - 0s 157us/step - loss: 1.0912e-07 - acc: 1.0000 - val_loss: 1.0963e-07 - val_acc: 1.0000\n",
            "Epoch 23/70\n",
            "1300/1300 [==============================] - 0s 155us/step - loss: 1.0912e-07 - acc: 1.0000 - val_loss: 1.0963e-07 - val_acc: 1.0000\n",
            "Epoch 24/70\n",
            "1300/1300 [==============================] - 0s 148us/step - loss: 1.0912e-07 - acc: 1.0000 - val_loss: 1.0963e-07 - val_acc: 1.0000\n",
            "Epoch 25/70\n",
            "1300/1300 [==============================] - 0s 147us/step - loss: 1.0912e-07 - acc: 1.0000 - val_loss: 1.0963e-07 - val_acc: 1.0000\n",
            "Epoch 26/70\n",
            "1300/1300 [==============================] - 0s 146us/step - loss: 1.0912e-07 - acc: 1.0000 - val_loss: 1.0963e-07 - val_acc: 1.0000\n",
            "Epoch 27/70\n",
            "1300/1300 [==============================] - 0s 148us/step - loss: 1.0912e-07 - acc: 1.0000 - val_loss: 1.0963e-07 - val_acc: 1.0000\n",
            "Epoch 28/70\n",
            "1300/1300 [==============================] - 0s 150us/step - loss: 1.0912e-07 - acc: 1.0000 - val_loss: 1.0963e-07 - val_acc: 1.0000\n",
            "Epoch 29/70\n",
            "1300/1300 [==============================] - 0s 172us/step - loss: 1.0912e-07 - acc: 1.0000 - val_loss: 1.0963e-07 - val_acc: 1.0000\n",
            "Epoch 30/70\n",
            "1300/1300 [==============================] - 0s 149us/step - loss: 1.0912e-07 - acc: 1.0000 - val_loss: 1.0963e-07 - val_acc: 1.0000\n",
            "Epoch 31/70\n",
            "1300/1300 [==============================] - 0s 145us/step - loss: 1.0912e-07 - acc: 1.0000 - val_loss: 1.0963e-07 - val_acc: 1.0000\n",
            "Epoch 32/70\n",
            "1300/1300 [==============================] - 0s 152us/step - loss: 1.0912e-07 - acc: 1.0000 - val_loss: 1.0963e-07 - val_acc: 1.0000\n",
            "Epoch 33/70\n",
            "1300/1300 [==============================] - 0s 147us/step - loss: 1.0912e-07 - acc: 1.0000 - val_loss: 1.0963e-07 - val_acc: 1.0000\n",
            "Epoch 34/70\n",
            "1300/1300 [==============================] - 0s 146us/step - loss: 1.0912e-07 - acc: 1.0000 - val_loss: 1.0963e-07 - val_acc: 1.0000\n",
            "Epoch 35/70\n",
            "1300/1300 [==============================] - 0s 148us/step - loss: 1.0912e-07 - acc: 1.0000 - val_loss: 1.0963e-07 - val_acc: 1.0000\n",
            "Epoch 36/70\n",
            "1300/1300 [==============================] - 0s 135us/step - loss: 1.0912e-07 - acc: 1.0000 - val_loss: 1.0963e-07 - val_acc: 1.0000\n",
            "Epoch 37/70\n",
            "1300/1300 [==============================] - 0s 139us/step - loss: 1.0912e-07 - acc: 1.0000 - val_loss: 1.0963e-07 - val_acc: 1.0000\n",
            "Epoch 38/70\n",
            "1300/1300 [==============================] - 0s 132us/step - loss: 1.0912e-07 - acc: 1.0000 - val_loss: 1.0963e-07 - val_acc: 1.0000\n",
            "Epoch 39/70\n",
            "1300/1300 [==============================] - 0s 135us/step - loss: 1.0912e-07 - acc: 1.0000 - val_loss: 1.0963e-07 - val_acc: 1.0000\n",
            "Epoch 40/70\n",
            "1300/1300 [==============================] - 0s 136us/step - loss: 1.0912e-07 - acc: 1.0000 - val_loss: 1.0963e-07 - val_acc: 1.0000\n",
            "Epoch 41/70\n",
            "1300/1300 [==============================] - 0s 145us/step - loss: 1.0912e-07 - acc: 1.0000 - val_loss: 1.0963e-07 - val_acc: 1.0000\n",
            "Epoch 42/70\n",
            "1300/1300 [==============================] - 0s 135us/step - loss: 1.0912e-07 - acc: 1.0000 - val_loss: 1.0963e-07 - val_acc: 1.0000\n",
            "Epoch 43/70\n",
            "1300/1300 [==============================] - 0s 131us/step - loss: 1.0912e-07 - acc: 1.0000 - val_loss: 1.0963e-07 - val_acc: 1.0000\n",
            "Epoch 44/70\n",
            "1300/1300 [==============================] - 0s 131us/step - loss: 1.0912e-07 - acc: 1.0000 - val_loss: 1.0963e-07 - val_acc: 1.0000\n",
            "Epoch 45/70\n",
            "1300/1300 [==============================] - 0s 129us/step - loss: 1.0912e-07 - acc: 1.0000 - val_loss: 1.0963e-07 - val_acc: 1.0000\n",
            "Epoch 46/70\n",
            "1300/1300 [==============================] - 0s 134us/step - loss: 1.0912e-07 - acc: 1.0000 - val_loss: 1.0963e-07 - val_acc: 1.0000\n",
            "Epoch 47/70\n",
            "1300/1300 [==============================] - 0s 139us/step - loss: 1.0912e-07 - acc: 1.0000 - val_loss: 1.0963e-07 - val_acc: 1.0000\n",
            "Epoch 48/70\n",
            "1300/1300 [==============================] - 0s 132us/step - loss: 1.0912e-07 - acc: 1.0000 - val_loss: 1.0963e-07 - val_acc: 1.0000\n",
            "Epoch 49/70\n",
            "1300/1300 [==============================] - 0s 129us/step - loss: 1.0912e-07 - acc: 1.0000 - val_loss: 1.0963e-07 - val_acc: 1.0000\n",
            "Epoch 50/70\n",
            "1300/1300 [==============================] - 0s 134us/step - loss: 1.0912e-07 - acc: 1.0000 - val_loss: 1.0963e-07 - val_acc: 1.0000\n",
            "Epoch 51/70\n",
            "1300/1300 [==============================] - 0s 132us/step - loss: 1.0912e-07 - acc: 1.0000 - val_loss: 1.0963e-07 - val_acc: 1.0000\n",
            "Epoch 52/70\n",
            "1300/1300 [==============================] - 0s 135us/step - loss: 1.0912e-07 - acc: 1.0000 - val_loss: 1.0963e-07 - val_acc: 1.0000\n",
            "Epoch 53/70\n",
            "1300/1300 [==============================] - 0s 133us/step - loss: 1.0912e-07 - acc: 1.0000 - val_loss: 1.0963e-07 - val_acc: 1.0000\n",
            "Epoch 54/70\n",
            "1300/1300 [==============================] - 0s 130us/step - loss: 1.0912e-07 - acc: 1.0000 - val_loss: 1.0963e-07 - val_acc: 1.0000\n",
            "Epoch 55/70\n",
            "1300/1300 [==============================] - 0s 140us/step - loss: 1.0912e-07 - acc: 1.0000 - val_loss: 1.0963e-07 - val_acc: 1.0000\n",
            "Epoch 56/70\n",
            "1300/1300 [==============================] - 0s 134us/step - loss: 1.0912e-07 - acc: 1.0000 - val_loss: 1.0963e-07 - val_acc: 1.0000\n",
            "Epoch 57/70\n",
            "1300/1300 [==============================] - 0s 133us/step - loss: 1.0912e-07 - acc: 1.0000 - val_loss: 1.0963e-07 - val_acc: 1.0000\n",
            "Epoch 58/70\n",
            "1300/1300 [==============================] - 0s 133us/step - loss: 1.0912e-07 - acc: 1.0000 - val_loss: 1.0963e-07 - val_acc: 1.0000\n",
            "Epoch 59/70\n",
            "1300/1300 [==============================] - 0s 133us/step - loss: 1.0912e-07 - acc: 1.0000 - val_loss: 1.0963e-07 - val_acc: 1.0000\n",
            "Epoch 60/70\n",
            "1300/1300 [==============================] - 0s 132us/step - loss: 1.0912e-07 - acc: 1.0000 - val_loss: 1.0963e-07 - val_acc: 1.0000\n",
            "Epoch 61/70\n",
            "1300/1300 [==============================] - 0s 145us/step - loss: 1.0912e-07 - acc: 1.0000 - val_loss: 1.0963e-07 - val_acc: 1.0000\n",
            "Epoch 62/70\n",
            "1300/1300 [==============================] - 0s 131us/step - loss: 1.0912e-07 - acc: 1.0000 - val_loss: 1.0963e-07 - val_acc: 1.0000\n",
            "Epoch 63/70\n",
            "1300/1300 [==============================] - 0s 133us/step - loss: 1.0912e-07 - acc: 1.0000 - val_loss: 1.0963e-07 - val_acc: 1.0000\n",
            "Epoch 64/70\n",
            "1300/1300 [==============================] - 0s 134us/step - loss: 1.0912e-07 - acc: 1.0000 - val_loss: 1.0963e-07 - val_acc: 1.0000\n",
            "Epoch 65/70\n",
            "1300/1300 [==============================] - 0s 131us/step - loss: 1.0912e-07 - acc: 1.0000 - val_loss: 1.0963e-07 - val_acc: 1.0000\n",
            "Epoch 66/70\n",
            "1300/1300 [==============================] - 0s 132us/step - loss: 1.0912e-07 - acc: 1.0000 - val_loss: 1.0963e-07 - val_acc: 1.0000\n",
            "Epoch 67/70\n",
            "1300/1300 [==============================] - 0s 132us/step - loss: 1.0912e-07 - acc: 1.0000 - val_loss: 1.0963e-07 - val_acc: 1.0000\n",
            "Epoch 68/70\n",
            "1300/1300 [==============================] - 0s 130us/step - loss: 1.0912e-07 - acc: 1.0000 - val_loss: 1.0963e-07 - val_acc: 1.0000\n",
            "Epoch 69/70\n",
            "1300/1300 [==============================] - 0s 132us/step - loss: 1.0912e-07 - acc: 1.0000 - val_loss: 1.0963e-07 - val_acc: 1.0000\n",
            "Epoch 70/70\n",
            "1300/1300 [==============================] - 0s 135us/step - loss: 1.0912e-07 - acc: 1.0000 - val_loss: 1.0963e-07 - val_acc: 1.0000\n"
          ],
          "name": "stdout"
        },
        {
          "output_type": "display_data",
          "data": {
            "image/png": "[encoded data removed]",
            "text/plain": [
              "<Figure size 432x288 with 1 Axes>"
            ]
          },
          "metadata": {
            "tags": []
          }
        },
        {
          "output_type": "display_data",
          "data": {
            "image/png": "[encoded data removed]",
            "text/plain": [
              "<Figure size 432x288 with 1 Axes>"
            ]
          },
          "metadata": {
            "tags": []
          }
        }
      ]
    },
    {
      "cell_type": "markdown",
      "metadata": {
        "id": "nbOyCiOfRewd",
        "colab_type": "text"
      },
      "source": [
        "Model Comaprison"
      ]
    },
    {
      "cell_type": "code",
      "metadata": {
        "id": "w9-U8si16THn",
        "colab_type": "code",
        "outputId": "0aa4a167-06a0-4ced-c4c3-d8f37205bb8d",
        "colab": {
          "base_uri": "https://localhost:8080/",
          "height": 263
        }
      },
      "source": [
        "model=['KNN','SVM','Decision Tree','Random Forest','Logistic','Gradient Boosting','Naive Bayes']\n",
        "training_score=[train_accuracy1,train_accuracy2,train_accuracy3,train_accuracy4,train_accuracy5,train_accuracy6,train_accuracy7]\n",
        "testing_score=[test_accuracy1,test_accuracy2,test_accuracy3,test_accuracy4,test_accuracy5,test_accuracy6,test_accuracy7]\n",
        "compar_df=pd.DataFrame(index=model)\n",
        "compar_df['Training']=training_score\n",
        "compar_df['Testing']=testing_score\n",
        "compar_df"
      ],
      "execution_count": 0,
      "outputs": [
        {
          "output_type": "execute_result",
          "data": {
            "text/html": [
              "<div>\n",
              "<style scoped>\n",
              "    .dataframe tbody tr th:only-of-type {\n",
              "        vertical-align: middle;\n",
              "    }\n",
              "\n",
              "    .dataframe tbody tr th {\n",
              "        vertical-align: top;\n",
              "    }\n",
              "\n",
              "    .dataframe thead th {\n",
              "        text-align: right;\n",
              "    }\n",
              "</style>\n",
              "<table border=\"1\" class=\"dataframe\">\n",
              "  <thead>\n",
              "    <tr style=\"text-align: right;\">\n",
              "      <th></th>\n",
              "      <th>Training</th>\n",
              "      <th>Testing</th>\n",
              "    </tr>\n",
              "  </thead>\n",
              "  <tbody>\n",
              "    <tr>\n",
              "      <th>KNN</th>\n",
              "      <td>0.957070</td>\n",
              "      <td>1.000000</td>\n",
              "    </tr>\n",
              "    <tr>\n",
              "      <th>SVM</th>\n",
              "      <td>0.995230</td>\n",
              "      <td>0.996923</td>\n",
              "    </tr>\n",
              "    <tr>\n",
              "      <th>Decision Tree</th>\n",
              "      <td>0.997692</td>\n",
              "      <td>0.999385</td>\n",
              "    </tr>\n",
              "    <tr>\n",
              "      <th>Random Forest</th>\n",
              "      <td>0.995230</td>\n",
              "      <td>0.996923</td>\n",
              "    </tr>\n",
              "    <tr>\n",
              "      <th>Logistic</th>\n",
              "      <td>1.000000</td>\n",
              "      <td>1.000000</td>\n",
              "    </tr>\n",
              "    <tr>\n",
              "      <th>Gradient Boosting</th>\n",
              "      <td>1.000000</td>\n",
              "      <td>1.000000</td>\n",
              "    </tr>\n",
              "    <tr>\n",
              "      <th>Naive Bayes</th>\n",
              "      <td>0.922296</td>\n",
              "      <td>0.915692</td>\n",
              "    </tr>\n",
              "  </tbody>\n",
              "</table>\n",
              "</div>"
            ],
            "text/plain": [
              "                   Training   Testing\n",
              "KNN                0.957070  1.000000\n",
              "SVM                0.995230  0.996923\n",
              "Decision Tree      0.997692  0.999385\n",
              "Random Forest      0.995230  0.996923\n",
              "Logistic           1.000000  1.000000\n",
              "Gradient Boosting  1.000000  1.000000\n",
              "Naive Bayes        0.922296  0.915692"
            ]
          },
          "metadata": {
            "tags": []
          },
          "execution_count": 78
        }
      ]
    },
    {
      "cell_type": "code",
      "metadata": {
        "id": "XBtwGX6E6VEz",
        "colab_type": "code",
        "outputId": "c20bb159-a8a9-4d5c-ca49-2ad6f2aef8c8",
        "colab": {
          "base_uri": "https://localhost:8080/",
          "height": 501
        }
      },
      "source": [
        "plt.figure(figsize=(10,8))\n",
        "plt.bar(model,training_score,width=0.35)"
      ],
      "execution_count": 0,
      "outputs": [
        {
          "output_type": "execute_result",
          "data": {
            "text/plain": [
              "<BarContainer object of 7 artists>"
            ]
          },
          "metadata": {
            "tags": []
          },
          "execution_count": 79
        },
        {
          "output_type": "display_data",
          "data": {
            "image/png": "[encoded data removed]",
            "text/plain": [
              "<Figure size 720x576 with 1 Axes>"
            ]
          },
          "metadata": {
            "tags": []
          }
        }
      ]
    },
    {
      "cell_type": "code",
      "metadata": {
        "id": "cC60kx18-eIV",
        "colab_type": "code",
        "colab": {}
      },
      "source": [
        ""
      ],
      "execution_count": 0,
      "outputs": []
    }
  ]
}